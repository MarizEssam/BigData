{
  "cells": [
    {
      "cell_type": "code",
      "source": [
        "# Install pyspark\n",
        "!pip install pyspark"
      ],
      "metadata": {
        "colab": {
          "base_uri": "https://localhost:8080/"
        },
        "id": "-0ydYzNkN5Cw",
        "outputId": "9eecb030-7e3f-4c69-ae06-12c2a1d0467b"
      },
      "id": "-0ydYzNkN5Cw",
      "execution_count": 3,
      "outputs": [
        {
          "output_type": "stream",
          "name": "stdout",
          "text": [
            "Looking in indexes: https://pypi.org/simple, https://us-python.pkg.dev/colab-wheels/public/simple/\n",
            "Collecting pyspark\n",
            "  Downloading pyspark-3.4.0.tar.gz (310.8 MB)\n",
            "\u001b[2K     \u001b[90m━━━━━━━━━━━━━━━━━━━━━━━━━━━━━━━━━━━━━━━\u001b[0m \u001b[32m310.8/310.8 MB\u001b[0m \u001b[31m4.6 MB/s\u001b[0m eta \u001b[36m0:00:00\u001b[0m\n",
            "\u001b[?25h  Preparing metadata (setup.py) ... \u001b[?25l\u001b[?25hdone\n",
            "Requirement already satisfied: py4j==0.10.9.7 in /usr/local/lib/python3.10/dist-packages (from pyspark) (0.10.9.7)\n",
            "Building wheels for collected packages: pyspark\n",
            "  Building wheel for pyspark (setup.py) ... \u001b[?25l\u001b[?25hdone\n",
            "  Created wheel for pyspark: filename=pyspark-3.4.0-py2.py3-none-any.whl size=311317130 sha256=7ac46e596de41fe14b116ec1066501ea78e7d44c4996013f07af695603c17067\n",
            "  Stored in directory: /root/.cache/pip/wheels/7b/1b/4b/3363a1d04368e7ff0d408e57ff57966fcdf00583774e761327\n",
            "Successfully built pyspark\n",
            "Installing collected packages: pyspark\n",
            "Successfully installed pyspark-3.4.0\n"
          ]
        }
      ]
    },
    {
      "cell_type": "code",
      "source": [
        "!pip install findspark"
      ],
      "metadata": {
        "colab": {
          "base_uri": "https://localhost:8080/"
        },
        "id": "kRk0QGEaOK07",
        "outputId": "db2741a1-8ee5-4d2d-d67b-9664ce999cf0"
      },
      "id": "kRk0QGEaOK07",
      "execution_count": 4,
      "outputs": [
        {
          "output_type": "stream",
          "name": "stdout",
          "text": [
            "Looking in indexes: https://pypi.org/simple, https://us-python.pkg.dev/colab-wheels/public/simple/\n",
            "Collecting findspark\n",
            "  Downloading findspark-2.0.1-py2.py3-none-any.whl (4.4 kB)\n",
            "Installing collected packages: findspark\n",
            "Successfully installed findspark-2.0.1\n"
          ]
        }
      ]
    },
    {
      "cell_type": "code",
      "execution_count": 8,
      "id": "f1c8410a-eebe-4bcc-8282-a9faab4003a8",
      "metadata": {
        "tags": [],
        "id": "f1c8410a-eebe-4bcc-8282-a9faab4003a8"
      },
      "outputs": [],
      "source": [
        "import findspark\n",
        "sc.stop()\n",
        "findspark.init()\n",
        "\n",
        "from pyspark import SparkContext\n",
        "sc = SparkContext(\"local\", \"first app\")\n",
        "\n",
        "from pyspark.sql import SparkSession\n",
        "spark = SparkSession.builder.appName(\"PySpark Create RDD example\").config(\"spark.some.config.option\", \"some-value\").getOrCreate()"
      ]
    },
    {
      "cell_type": "code",
      "execution_count": 10,
      "id": "3274301b-5ec9-4638-924d-c3c0b06cc5a0",
      "metadata": {
        "tags": [],
        "id": "3274301b-5ec9-4638-924d-c3c0b06cc5a0"
      },
      "outputs": [],
      "source": [
        "\n",
        "df = spark.read.csv(\"/content/ecommerce_customers.csv\", inferSchema=True, header=True)"
      ]
    },
    {
      "cell_type": "code",
      "execution_count": 11,
      "id": "f8b17e4f-ff46-4767-ba78-12a802d5d756",
      "metadata": {
        "tags": [],
        "colab": {
          "base_uri": "https://localhost:8080/"
        },
        "id": "f8b17e4f-ff46-4767-ba78-12a802d5d756",
        "outputId": "daa19ca5-c440-4ee2-c4ac-45003d543c0b"
      },
      "outputs": [
        {
          "output_type": "stream",
          "name": "stdout",
          "text": [
            "root\n",
            " |-- Email: string (nullable = true)\n",
            " |-- Avatar: string (nullable = true)\n",
            " |-- Avg Session Length: double (nullable = true)\n",
            " |-- Time on App: double (nullable = true)\n",
            " |-- Time on Website: double (nullable = true)\n",
            " |-- Length of Membership: double (nullable = true)\n",
            " |-- Yearly Amount Spent: double (nullable = true)\n",
            "\n"
          ]
        }
      ],
      "source": [
        "df.printSchema()"
      ]
    },
    {
      "cell_type": "code",
      "execution_count": 12,
      "id": "f33f5179-2043-46e2-8d45-ce38dfc84653",
      "metadata": {
        "tags": [],
        "colab": {
          "base_uri": "https://localhost:8080/"
        },
        "id": "f33f5179-2043-46e2-8d45-ce38dfc84653",
        "outputId": "e5fd7c28-a76f-4114-f8ce-f63447422cae"
      },
      "outputs": [
        {
          "output_type": "stream",
          "name": "stdout",
          "text": [
            "+--------------------+----------------+------------------+-----------+---------------+--------------------+-------------------+\n",
            "|               Email|          Avatar|Avg Session Length|Time on App|Time on Website|Length of Membership|Yearly Amount Spent|\n",
            "+--------------------+----------------+------------------+-----------+---------------+--------------------+-------------------+\n",
            "|mstephenson@ferna...|          Violet|       34.49726773|12.65565115|    39.57766802|         4.082620633|         587.951054|\n",
            "|   hduke@hotmail.com|       DarkGreen|       31.92627203|11.10946073|    37.26895887|         2.664034182|        392.2049334|\n",
            "|    pallen@yahoo.com|          Bisque|       33.00091476|11.33027806|    37.11059744|         4.104543202|        487.5475049|\n",
            "|riverarebecca@gma...|     SaddleBrown|       34.30555663|13.71751367|    36.72128268|         3.120178783|         581.852344|\n",
            "|mstephens@davidso...|MediumAquaMarine|       33.33067252|12.79518855|     37.5366533|         4.446308318|         599.406092|\n",
            "+--------------------+----------------+------------------+-----------+---------------+--------------------+-------------------+\n",
            "only showing top 5 rows\n",
            "\n"
          ]
        }
      ],
      "source": [
        "df.show(5)"
      ]
    },
    {
      "cell_type": "code",
      "execution_count": 13,
      "id": "494e358f-558d-4ca4-90cc-d3e29013bd13",
      "metadata": {
        "tags": [],
        "id": "494e358f-558d-4ca4-90cc-d3e29013bd13"
      },
      "outputs": [],
      "source": [
        "from pyspark.ml.regression import LinearRegression\n",
        "from pyspark.ml.linalg import Vectors\n",
        "from pyspark.ml.feature import VectorAssembler"
      ]
    },
    {
      "cell_type": "code",
      "execution_count": 14,
      "id": "2bfde318-4cb1-4c22-bc9e-8c717ec0c060",
      "metadata": {
        "tags": [],
        "id": "2bfde318-4cb1-4c22-bc9e-8c717ec0c060"
      },
      "outputs": [],
      "source": [
        "\n",
        "assembler = VectorAssembler(inputCols=['Avg Session Length', 'Time on App', 'Time on Website', 'Length of Membership'], outputCol='features')\n",
        "output = assembler.transform(df)"
      ]
    },
    {
      "cell_type": "code",
      "execution_count": 15,
      "id": "207df74c-873d-4cd2-bd50-757510ac0095",
      "metadata": {
        "tags": [],
        "colab": {
          "base_uri": "https://localhost:8080/"
        },
        "id": "207df74c-873d-4cd2-bd50-757510ac0095",
        "outputId": "3ec28e7d-5196-4d8c-a84e-0b97c8217b4e"
      },
      "outputs": [
        {
          "output_type": "stream",
          "name": "stdout",
          "text": [
            "+-------------------------------------------------+-------------------+\n",
            "|features                                         |Yearly Amount Spent|\n",
            "+-------------------------------------------------+-------------------+\n",
            "|[34.49726773,12.65565115,39.57766802,4.082620633]|587.951054         |\n",
            "|[31.92627203,11.10946073,37.26895887,2.664034182]|392.2049334        |\n",
            "|[33.00091476,11.33027806,37.11059744,4.104543202]|487.5475049        |\n",
            "|[34.30555663,13.71751367,36.72128268,3.120178783]|581.852344         |\n",
            "|[33.33067252,12.79518855,37.5366533,4.446308318] |599.406092         |\n",
            "|[33.87103788,12.02692534,34.47687763,5.493507201]|637.1024479        |\n",
            "|[32.0215955,11.36634831,36.68377615,4.685017247] |521.5721748        |\n",
            "|[32.73914294,12.35195897,37.37335886,4.434273435]|549.9041461        |\n",
            "|[33.9877729,13.38623528,37.53449734,3.273433578] |570.200409         |\n",
            "|[31.93654862,11.81412829,37.14516822,3.202806072]|427.1993849        |\n",
            "|[33.99257277,13.33897545,37.22580613,2.482607771]|492.6060127        |\n",
            "|[33.87936082,11.584783,37.08792607,3.713209203]  |522.3374046        |\n",
            "|[29.53242897,10.9612984,37.42021558,4.046423164] |408.6403511        |\n",
            "|[33.19033404,12.95922609,36.1446667,3.918541839] |573.4158673        |\n",
            "|[32.38797585,13.14872569,36.61995708,2.494543647]|470.4527333        |\n",
            "|[30.73772037,12.63660605,36.21376309,3.357846842]|461.7807422        |\n",
            "|[32.1253869,11.73386169,34.89409275,3.136132716] |457.8476959        |\n",
            "|[32.33889932,12.01319469,38.38513659,2.420806161]|407.7045475        |\n",
            "|[32.18781205,14.71538754,38.24411459,1.516575581]|452.3156755        |\n",
            "|[32.61785606,13.98959256,37.1905038,4.06454855]  |605.0610388        |\n",
            "+-------------------------------------------------+-------------------+\n",
            "only showing top 20 rows\n",
            "\n"
          ]
        }
      ],
      "source": [
        "final_df = output.select('features', 'Yearly Amount Spent')\n",
        "final_df.show(truncate=False)"
      ]
    },
    {
      "cell_type": "code",
      "execution_count": 16,
      "id": "8235b6b9-bbb4-4e3f-bb4d-1a0be20114a9",
      "metadata": {
        "tags": [],
        "colab": {
          "base_uri": "https://localhost:8080/"
        },
        "id": "8235b6b9-bbb4-4e3f-bb4d-1a0be20114a9",
        "outputId": "1062c988-530e-46f7-83bc-8525b923e7fd"
      },
      "outputs": [
        {
          "output_type": "stream",
          "name": "stdout",
          "text": [
            "+-------+-------------------+\n",
            "|summary|Yearly Amount Spent|\n",
            "+-------+-------------------+\n",
            "|  count|                354|\n",
            "|   mean|   501.110543436723|\n",
            "| stddev|  81.80063986294292|\n",
            "|    min|        256.6705823|\n",
            "|    max|        765.5184619|\n",
            "+-------+-------------------+\n",
            "\n",
            "+-------+-------------------+\n",
            "|summary|Yearly Amount Spent|\n",
            "+-------+-------------------+\n",
            "|  count|                146|\n",
            "|   mean| 494.95812845068474|\n",
            "| stddev|  73.02191790378373|\n",
            "|    min|        282.4712457|\n",
            "|    max|        712.3963268|\n",
            "+-------+-------------------+\n",
            "\n"
          ]
        }
      ],
      "source": [
        "train_data, test_data = final_df.randomSplit([0.7, 0.3])\n",
        "train_data.describe().show()\n",
        "test_data.describe().show()"
      ]
    },
    {
      "cell_type": "code",
      "execution_count": 17,
      "id": "167304fd-de6f-4c17-973e-2b7b7301c983",
      "metadata": {
        "tags": [],
        "id": "167304fd-de6f-4c17-973e-2b7b7301c983"
      },
      "outputs": [],
      "source": [
        "lr = LinearRegression(labelCol = 'Yearly Amount Spent')\n",
        "model = lr.fit(train_data)"
      ]
    },
    {
      "cell_type": "code",
      "execution_count": 18,
      "id": "67eddd2f-0fd5-447e-a4fe-386d1779e01e",
      "metadata": {
        "tags": [],
        "colab": {
          "base_uri": "https://localhost:8080/"
        },
        "id": "67eddd2f-0fd5-447e-a4fe-386d1779e01e",
        "outputId": "d9bc2a4d-ee0e-4a8e-8da1-65e14545f969"
      },
      "outputs": [
        {
          "output_type": "stream",
          "name": "stdout",
          "text": [
            "8.320211906475746\n",
            "104.28219010971677\n",
            "10.211865163118674\n",
            "0.9803080589825842\n"
          ]
        }
      ],
      "source": [
        "res = model.evaluate(test_data)\n",
        "print(res.meanAbsoluteError)\n",
        "print(res.meanSquaredError)\n",
        "print(res.rootMeanSquaredError)\n",
        "print(res.r2)"
      ]
    },
    {
      "cell_type": "code",
      "execution_count": 19,
      "id": "01da0f8e-0466-4df0-9476-02e123242d67",
      "metadata": {
        "tags": [],
        "colab": {
          "base_uri": "https://localhost:8080/"
        },
        "id": "01da0f8e-0466-4df0-9476-02e123242d67",
        "outputId": "38edc0df-49ad-4d06-9955-fabb0d4f58d5"
      },
      "outputs": [
        {
          "output_type": "stream",
          "name": "stdout",
          "text": [
            "+--------------------+-------------------+------------------+\n",
            "|            features|Yearly Amount Spent|        prediction|\n",
            "+--------------------+-------------------+------------------+\n",
            "|[30.4925367,11.56...|        282.4712457| 287.3886267833184|\n",
            "|[30.57436368,11.3...|        442.0644138| 441.6244209338877|\n",
            "|[30.87948434,13.2...|           490.2066| 494.7089602869521|\n",
            "|[30.97167564,11.7...|        494.6386098| 487.5288950664951|\n",
            "|[31.06132516,12.3...|        487.5554581| 493.7262642865808|\n",
            "|[31.06621816,11.7...|        448.9332932|461.70561074923967|\n",
            "|[31.26810421,12.1...|        423.4705332|  427.206228855297|\n",
            "|[31.28344748,12.7...|        591.7810894| 569.7792421052368|\n",
            "|[31.30919264,11.9...|        432.7207178|429.68722280795646|\n",
            "|[31.36621217,11.1...|        430.5888826|426.51936135492883|\n",
            "|[31.42522688,13.2...|        530.7667187|  535.508216022459|\n",
            "|[31.57613197,12.5...|         541.226584|  543.550990159398|\n",
            "|[31.65480968,13.0...|        475.2634237| 469.4778426782293|\n",
            "|[31.66104982,11.3...|        416.3583536| 417.0607345256399|\n",
            "|[31.7207699,11.75...|        538.7749335| 546.0605392841449|\n",
            "|[31.72165236,11.7...|        347.7769266| 349.6377954799791|\n",
            "|[31.81861657,11.2...|        446.4186734|448.08362364790423|\n",
            "|[31.8209982,10.77...|         424.675281| 416.7720706182513|\n",
            "|[31.82934646,11.2...|         385.152338|383.98503105417717|\n",
            "|[31.85125313,12.4...|        472.9922467|464.87068258566774|\n",
            "+--------------------+-------------------+------------------+\n",
            "only showing top 20 rows\n",
            "\n"
          ]
        }
      ],
      "source": [
        "predictions = model.transform(test_data)\n",
        "predictions.show()"
      ]
    },
    {
      "cell_type": "code",
      "execution_count": 19,
      "id": "0c7e3ebb-1daa-47bd-bb7b-ece4d77d7f27",
      "metadata": {
        "id": "0c7e3ebb-1daa-47bd-bb7b-ece4d77d7f27"
      },
      "outputs": [],
      "source": []
    }
  ],
  "metadata": {
    "kernelspec": {
      "display_name": "Python 3 (ipykernel)",
      "language": "python",
      "name": "python3"
    },
    "language_info": {
      "codemirror_mode": {
        "name": "ipython",
        "version": 3
      },
      "file_extension": ".py",
      "mimetype": "text/x-python",
      "name": "python",
      "nbconvert_exporter": "python",
      "pygments_lexer": "ipython3",
      "version": "3.10.6"
    },
    "colab": {
      "provenance": [],
      "gpuType": "T4"
    },
    "accelerator": "GPU",
    "gpuClass": "standard"
  },
  "nbformat": 4,
  "nbformat_minor": 5
}