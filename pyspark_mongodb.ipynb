{
 "cells": [
  {
   "cell_type": "code",
   "execution_count": null,
   "id": "4b429201-c01a-4229-8033-f27e381423b4",
   "metadata": {
    "tags": []
   },
   "outputs": [],
   "source": [
    "import findspark\n",
    "findspark.init()\n",
    "\n",
    "from pyspark import SparkContext\n",
    "sc = SparkContext(\"local\", \"first app\")\n",
    "\n",
    "from pyspark.sql import SparkSession\n",
    "spark = SparkSession.builder.appName(\"PySpark Create RDD example\").getOrCreate()"
   ]
  },
  {
   "cell_type": "code",
   "execution_count": null,
   "id": "1512ae35-88ce-4310-a9b1-321b8c06f2e7",
   "metadata": {
    "tags": []
   },
   "outputs": [],
   "source": [
    "df = spark.read.csv(\"file:/home/msobh/pyspark/data/tourism-recipts.csv\", inferSchema=True, header=True)\n",
    "df.show()"
   ]
  },
  {
   "cell_type": "code",
   "execution_count": null,
   "id": "c83f0ffd-bf9b-449a-8b1a-144a49dc117a",
   "metadata": {
    "tags": []
   },
   "outputs": [],
   "source": [
    "df.createOrReplaceTempView(\"tourism_yearly\")"
   ]
  },
  {
   "cell_type": "code",
   "execution_count": null,
   "id": "18b85639-76b4-481b-8cb5-c5014fb7f6b5",
   "metadata": {
    "tags": []
   },
   "outputs": [],
   "source": [
    "final_df = spark.sql(\"SELECT year, sum(value) as yearly_income FROM tourism_yearly GROUP BY year\")\n",
    "final_df.show()"
   ]
  },
  {
   "cell_type": "code",
   "execution_count": null,
   "id": "6bc30d18-6e9d-46ac-b2e1-8c2862a3bfd5",
   "metadata": {
    "tags": []
   },
   "outputs": [],
   "source": [
    "import pymongo"
   ]
  },
  {
   "cell_type": "code",
   "execution_count": null,
   "id": "86173c50-2961-45bb-9ac6-69a85008c8ef",
   "metadata": {
    "tags": []
   },
   "outputs": [],
   "source": [
    "client = pymongo.MongoClient(\"mongodb://localhost:27017/\")\n",
    "print(client)"
   ]
  },
  {
   "cell_type": "code",
   "execution_count": null,
   "id": "f3e5c9f2-8423-42db-b034-7c80532984b4",
   "metadata": {
    "tags": []
   },
   "outputs": [],
   "source": [
    "db = client[\"test\"]\n",
    "print(db)"
   ]
  },
  {
   "cell_type": "code",
   "execution_count": null,
   "id": "8cff7a8a-c6c0-499a-8348-3e5f08095dc5",
   "metadata": {
    "tags": []
   },
   "outputs": [],
   "source": [
    "tourism = db[\"tourism\"]\n",
    "print(tourism)"
   ]
  },
  {
   "cell_type": "code",
   "execution_count": null,
   "id": "c52106f1-1aeb-404a-83b7-d7e492f0f857",
   "metadata": {
    "tags": []
   },
   "outputs": [],
   "source": [
    "values = [];\n",
    "for row in final_df.collect():\n",
    "    values.append(row.asDict())\n",
    "values"
   ]
  },
  {
   "cell_type": "code",
   "execution_count": null,
   "id": "4b80754d-72cb-4450-8618-aaad767ba792",
   "metadata": {
    "tags": []
   },
   "outputs": [],
   "source": [
    "tourism.drop()"
   ]
  },
  {
   "cell_type": "code",
   "execution_count": null,
   "id": "c13482b7-1dff-4d3d-96dc-3c237356a172",
   "metadata": {
    "tags": []
   },
   "outputs": [],
   "source": [
    "tourism.insert_many(values)"
   ]
  },
  {
   "cell_type": "code",
   "execution_count": null,
   "id": "56bec639-8903-4c49-8204-3b5f2b47cb3e",
   "metadata": {
    "tags": []
   },
   "outputs": [],
   "source": [
    "tourism.find_one()"
   ]
  }
 ],
 "metadata": {
  "kernelspec": {
   "display_name": "Python 3 (ipykernel)",
   "language": "python",
   "name": "python3"
  },
  "language_info": {
   "codemirror_mode": {
    "name": "ipython",
    "version": 3
   },
   "file_extension": ".py",
   "mimetype": "text/x-python",
   "name": "python",
   "nbconvert_exporter": "python",
   "pygments_lexer": "ipython3",
   "version": "3.10.6"
  }
 },
 "nbformat": 4,
 "nbformat_minor": 5
}
