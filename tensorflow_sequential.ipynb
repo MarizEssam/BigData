{
 "cells": [
  {
   "cell_type": "code",
   "execution_count": null,
   "id": "303abcd2-c5a9-48f2-8282-c27b6f951f74",
   "metadata": {
    "tags": []
   },
   "outputs": [],
   "source": [
    "import numpy as np\n",
    "import tensorflow as tf\n",
    "from tensorflow import keras\n",
    "from tensorflow.keras import layers\n",
    "from tensorflow.keras.datasets import mnist"
   ]
  },
  {
   "cell_type": "code",
   "execution_count": null,
   "id": "2c67988a-2c06-4148-a6d4-60a994492d26",
   "metadata": {
    "tags": []
   },
   "outputs": [],
   "source": [
    "import tensorflow_datasets as tfds\n",
    "train_ds, test_ds = tfds.load('cifar10', split=['train','test'], as_supervised=True)"
   ]
  },
  {
   "cell_type": "markdown",
   "id": "b443e3ca-fa25-40dc-b8f9-039366389b07",
   "metadata": {},
   "source": [
    "# Data"
   ]
  },
  {
   "cell_type": "code",
   "execution_count": null,
   "id": "907fb061-815d-4e0f-9b12-088ee61d9dd4",
   "metadata": {
    "tags": []
   },
   "outputs": [],
   "source": [
    "(x_tarin_temp, y_train), (x_test_temp, y_test) = mnist.load_data()"
   ]
  },
  {
   "cell_type": "code",
   "execution_count": null,
   "id": "db6c820c-d42a-43b1-af5a-567dd9f1233c",
   "metadata": {
    "tags": []
   },
   "outputs": [],
   "source": [
    "x_tarin_temp.shape"
   ]
  },
  {
   "cell_type": "code",
   "execution_count": null,
   "id": "4d02d16c-4653-4352-834f-7b01aec426a6",
   "metadata": {
    "tags": []
   },
   "outputs": [],
   "source": [
    "x_tarin = x_tarin_temp.reshape(-1, 28*28).astype(\"float32\")/255.0\n",
    "x_tarin.shape"
   ]
  },
  {
   "cell_type": "code",
   "execution_count": null,
   "id": "a56c805b-968e-4e08-ae40-d00b69eb4a9e",
   "metadata": {
    "tags": []
   },
   "outputs": [],
   "source": [
    "x_test = x_test_temp.reshape(-1, 28*28).astype(\"float32\")/255.0\n",
    "x_test.shape"
   ]
  },
  {
   "cell_type": "markdown",
   "id": "dd405fb0-d1a4-4293-afd2-ed294964752f",
   "metadata": {},
   "source": [
    "# Model"
   ]
  },
  {
   "cell_type": "code",
   "execution_count": null,
   "id": "d2a98ff1-3794-457f-8b75-23a20b7b1520",
   "metadata": {
    "tags": []
   },
   "outputs": [],
   "source": [
    "model = keras.Sequential([\n",
    "    keras.Input(shape=(28*28)),\n",
    "    layers.Dense(512, activation='relu', name='first_layer'),\n",
    "    layers.Dense(256, activation='relu', name='second_layer'),\n",
    "    layers.Dense(10, name='output_layer')\n",
    "])\n",
    "model.summary()"
   ]
  },
  {
   "cell_type": "code",
   "execution_count": null,
   "id": "5c5f6209-decc-4525-9317-1fd768249906",
   "metadata": {
    "tags": []
   },
   "outputs": [],
   "source": [
    "model.compile(\n",
    "    loss=keras.losses.SparseCategoricalCrossentropy(from_logits=True),\n",
    "    optimizer=keras.optimizers.Adam(learning_rate=0.001),\n",
    "    metrics=[\"accuracy\"]\n",
    ")"
   ]
  },
  {
   "cell_type": "code",
   "execution_count": null,
   "id": "23683e23-977e-4e86-a61c-e6c83d5d1e8f",
   "metadata": {
    "tags": []
   },
   "outputs": [],
   "source": [
    "model.fit(x_tarin, y_train, batch_size=32, epochs=5, verbose=2)"
   ]
  },
  {
   "cell_type": "code",
   "execution_count": null,
   "id": "e79d76fd-cdee-4f42-abf8-1d809efd8fad",
   "metadata": {
    "tags": []
   },
   "outputs": [],
   "source": [
    "model.evaluate(x_test, y_test, batch_size=32, verbose=2)"
   ]
  },
  {
   "cell_type": "code",
   "execution_count": null,
   "id": "74d3066c-62e3-40d8-83f7-523f35b2cdc4",
   "metadata": {},
   "outputs": [],
   "source": []
  }
 ],
 "metadata": {
  "kernelspec": {
   "display_name": "Python 3 (ipykernel)",
   "language": "python",
   "name": "python3"
  },
  "language_info": {
   "codemirror_mode": {
    "name": "ipython",
    "version": 3
   },
   "file_extension": ".py",
   "mimetype": "text/x-python",
   "name": "python",
   "nbconvert_exporter": "python",
   "pygments_lexer": "ipython3",
   "version": "3.10.5"
  }
 },
 "nbformat": 4,
 "nbformat_minor": 5
}
