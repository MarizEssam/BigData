{
  "cells": [
    {
      "cell_type": "code",
      "source": [
        "# Install pyspark\n",
        "!pip install pyspark"
      ],
      "metadata": {
        "colab": {
          "base_uri": "https://localhost:8080/"
        },
        "id": "kbQTEUDH3I4c",
        "outputId": "82894e64-52f2-4c4b-f1df-09799a593689"
      },
      "id": "kbQTEUDH3I4c",
      "execution_count": 3,
      "outputs": [
        {
          "output_type": "stream",
          "name": "stdout",
          "text": [
            "Looking in indexes: https://pypi.org/simple, https://us-python.pkg.dev/colab-wheels/public/simple/\n",
            "Requirement already satisfied: pyspark in /usr/local/lib/python3.10/dist-packages (3.4.0)\n",
            "Requirement already satisfied: py4j==0.10.9.7 in /usr/local/lib/python3.10/dist-packages (from pyspark) (0.10.9.7)\n"
          ]
        }
      ]
    },
    {
      "cell_type": "code",
      "source": [
        "pip install findspark"
      ],
      "metadata": {
        "colab": {
          "base_uri": "https://localhost:8080/"
        },
        "id": "GCsAspNi3mzk",
        "outputId": "f5b96b5e-333a-4fa5-f5c4-9c0553923ea3"
      },
      "id": "GCsAspNi3mzk",
      "execution_count": 5,
      "outputs": [
        {
          "output_type": "stream",
          "name": "stdout",
          "text": [
            "Looking in indexes: https://pypi.org/simple, https://us-python.pkg.dev/colab-wheels/public/simple/\n",
            "Collecting findspark\n",
            "  Downloading findspark-2.0.1-py2.py3-none-any.whl (4.4 kB)\n",
            "Installing collected packages: findspark\n",
            "Successfully installed findspark-2.0.1\n"
          ]
        }
      ]
    },
    {
      "cell_type": "code",
      "execution_count": 14,
      "id": "68eca0da-ff71-4e06-8237-c9144b79a054",
      "metadata": {
        "tags": [],
        "id": "68eca0da-ff71-4e06-8237-c9144b79a054"
      },
      "outputs": [],
      "source": [
        "import findspark\n",
        "findspark.init()\n",
        "\n",
        "from pyspark import SparkContext\n",
        "sc.stop()\n",
        "sc = SparkContext(\"local\", \"first app\")\n",
        "\n",
        "from pyspark.sql import SparkSession\n",
        "spark = SparkSession.builder.appName(\"PySpark Create RDD example\").config(\"spark.some.config.option\", \"some-value\").getOrCreate()"
      ]
    },
    {
      "cell_type": "code",
      "execution_count": 17,
      "id": "84426f26-4cd1-475e-a219-65fd44b784cf",
      "metadata": {
        "tags": [],
        "colab": {
          "base_uri": "https://localhost:8080/"
        },
        "id": "84426f26-4cd1-475e-a219-65fd44b784cf",
        "outputId": "790cff05-a11a-4660-a89d-472f27508982"
      },
      "outputs": [
        {
          "output_type": "stream",
          "name": "stdout",
          "text": [
            "root\n",
            " |-- _c0: string (nullable = true)\n",
            " |-- _c1: string (nullable = true)\n",
            " |-- _c2: string (nullable = true)\n",
            " |-- _c3: string (nullable = true)\n",
            " |-- _c4: string (nullable = true)\n",
            "\n",
            "+------------+-------+-------------------+-------+-----+\n",
            "|         _c0|    _c1|                _c2|    _c3|  _c4|\n",
            "+------------+-------+-------------------+-------+-----+\n",
            "|RecordNumber|Country|               City|Zipcode|State|\n",
            "|           1|     US|        PARC PARQUE|    704|   PR|\n",
            "|           2|     US|PASEO COSTA DEL SUR|    704|   PR|\n",
            "|          10|     US|       BDA SAN LUIS|    709|   PR|\n",
            "|       49347|     US|               HOLT|  32564|   FL|\n",
            "|       49348|     US|          HOMOSASSA|  34487|   FL|\n",
            "|       61391|     US|  CINGULAR WIRELESS|  76166|   TX|\n",
            "|       61392|     US|         FORT WORTH|  76177|   TX|\n",
            "|       61393|     US|           FT WORTH|  76177|   TX|\n",
            "|       54356|     US|        SPRUCE PINE|  35585|   AL|\n",
            "|       76511|     US|           ASH HILL|  27007|   NC|\n",
            "|           4|     US|    URB EUGENE RICE|    704|   PR|\n",
            "|       39827|     US|               MESA|  85209|   AZ|\n",
            "|       39828|     US|               MESA|  85210|   AZ|\n",
            "|       49345|     US|           HILLIARD|  32046|   FL|\n",
            "|       49346|     US|             HOLDER|  34445|   FL|\n",
            "|           3|     US|      SECT LANAUSSE|    704|   PR|\n",
            "|       54354|     US|      SPRING GARDEN|  36275|   AL|\n",
            "|       54355|     US|        SPRINGVILLE|  35146|   AL|\n",
            "|       76512|     US|           ASHEBORO|  27203|   NC|\n",
            "+------------+-------+-------------------+-------+-----+\n",
            "only showing top 20 rows\n",
            "\n"
          ]
        }
      ],
      "source": [
        "#load csv\n",
        "df = spark.read.csv(\"/content/simple-zipcodes.csv\")\n",
        "df = spark.read.format('csv').load(\"/content/simple-zipcodes.csv\")\n",
        "df.printSchema()\n",
        "df.show()"
      ]
    },
    {
      "cell_type": "code",
      "execution_count": 19,
      "id": "30f7fcc8-eba4-46f5-b0d0-e760d6dbcf5d",
      "metadata": {
        "tags": [],
        "colab": {
          "base_uri": "https://localhost:8080/"
        },
        "id": "30f7fcc8-eba4-46f5-b0d0-e760d6dbcf5d",
        "outputId": "1530eb0b-3f71-48c9-ca82-92edfee6e1c0"
      },
      "outputs": [
        {
          "output_type": "stream",
          "name": "stdout",
          "text": [
            "root\n",
            " |-- RecordNumber: integer (nullable = true)\n",
            " |-- Country: string (nullable = true)\n",
            " |-- City: string (nullable = true)\n",
            " |-- Zipcode: integer (nullable = true)\n",
            " |-- State: string (nullable = true)\n",
            "\n",
            "+------------+-------+-------------------+-------+-----+\n",
            "|RecordNumber|Country|               City|Zipcode|State|\n",
            "+------------+-------+-------------------+-------+-----+\n",
            "|           1|     US|        PARC PARQUE|    704|   PR|\n",
            "|           2|     US|PASEO COSTA DEL SUR|    704|   PR|\n",
            "|          10|     US|       BDA SAN LUIS|    709|   PR|\n",
            "|       49347|     US|               HOLT|  32564|   FL|\n",
            "|       49348|     US|          HOMOSASSA|  34487|   FL|\n",
            "|       61391|     US|  CINGULAR WIRELESS|  76166|   TX|\n",
            "|       61392|     US|         FORT WORTH|  76177|   TX|\n",
            "|       61393|     US|           FT WORTH|  76177|   TX|\n",
            "|       54356|     US|        SPRUCE PINE|  35585|   AL|\n",
            "|       76511|     US|           ASH HILL|  27007|   NC|\n",
            "|           4|     US|    URB EUGENE RICE|    704|   PR|\n",
            "|       39827|     US|               MESA|  85209|   AZ|\n",
            "|       39828|     US|               MESA|  85210|   AZ|\n",
            "|       49345|     US|           HILLIARD|  32046|   FL|\n",
            "|       49346|     US|             HOLDER|  34445|   FL|\n",
            "|           3|     US|      SECT LANAUSSE|    704|   PR|\n",
            "|       54354|     US|      SPRING GARDEN|  36275|   AL|\n",
            "|       54355|     US|        SPRINGVILLE|  35146|   AL|\n",
            "|       76512|     US|           ASHEBORO|  27203|   NC|\n",
            "|       76513|     US|           ASHEBORO|  27204|   NC|\n",
            "+------------+-------+-------------------+-------+-----+\n",
            "\n"
          ]
        }
      ],
      "source": [
        "#load csv with headers and options\n",
        "df = spark.read.options(header='True', inferSchema='True', delimiter=',').csv(\"/content/simple-zipcodes.csv\")\n",
        "df.printSchema()\n",
        "df.show()"
      ]
    },
    {
      "cell_type": "code",
      "execution_count": 21,
      "id": "0193e02e-e8a2-44b0-a881-3185cfdf3bb9",
      "metadata": {
        "tags": [],
        "colab": {
          "base_uri": "https://localhost:8080/"
        },
        "id": "0193e02e-e8a2-44b0-a881-3185cfdf3bb9",
        "outputId": "979818a0-944f-4f4e-fc58-49e2873e2dbf"
      },
      "outputs": [
        {
          "output_type": "stream",
          "name": "stdout",
          "text": [
            "root\n",
            " |-- City: string (nullable = true)\n",
            " |-- Country: string (nullable = true)\n",
            " |-- Decommisioned: boolean (nullable = true)\n",
            " |-- EstimatedPopulation: long (nullable = true)\n",
            " |-- Lat: double (nullable = true)\n",
            " |-- Location: string (nullable = true)\n",
            " |-- LocationText: string (nullable = true)\n",
            " |-- LocationType: string (nullable = true)\n",
            " |-- Long: double (nullable = true)\n",
            " |-- Notes: string (nullable = true)\n",
            " |-- RecordNumber: long (nullable = true)\n",
            " |-- State: string (nullable = true)\n",
            " |-- TaxReturnsFiled: long (nullable = true)\n",
            " |-- TotalWages: long (nullable = true)\n",
            " |-- WorldRegion: string (nullable = true)\n",
            " |-- Xaxis: double (nullable = true)\n",
            " |-- Yaxis: double (nullable = true)\n",
            " |-- Zaxis: double (nullable = true)\n",
            " |-- ZipCodeType: string (nullable = true)\n",
            " |-- Zipcode: long (nullable = true)\n",
            "\n",
            "+-------------------+-------+-------------+-------------------+-----+--------------------+--------------------+--------------+-------+-------------+------------+-----+---------------+----------+-----------+-----+-----+-----+-----------+-------+\n",
            "|               City|Country|Decommisioned|EstimatedPopulation|  Lat|            Location|        LocationText|  LocationType|   Long|        Notes|RecordNumber|State|TaxReturnsFiled|TotalWages|WorldRegion|Xaxis|Yaxis|Zaxis|ZipCodeType|Zipcode|\n",
            "+-------------------+-------+-------------+-------------------+-----+--------------------+--------------------+--------------+-------+-------------+------------+-----+---------------+----------+-----------+-----+-----+-----+-----------+-------+\n",
            "|        PARC PARQUE|     US|        false|               null|17.96|NA-US-PR-PARC PARQUE|     Parc Parque, PR|NOT ACCEPTABLE| -66.22|         null|           1|   PR|           null|      null|         NA| 0.38|-0.87|  0.3|   STANDARD|    704|\n",
            "|PASEO COSTA DEL SUR|     US|        false|               null|17.96|NA-US-PR-PASEO CO...|Paseo Costa Del S...|NOT ACCEPTABLE| -66.22|         null|           2|   PR|           null|      null|         NA| 0.38|-0.87|  0.3|   STANDARD|    704|\n",
            "|       BDA SAN LUIS|     US|        false|               null|18.14|NA-US-PR-BDA SAN ...|    Bda San Luis, PR|NOT ACCEPTABLE| -66.26|         null|          10|   PR|           null|      null|         NA| 0.38|-0.86| 0.31|   STANDARD|    709|\n",
            "|  CINGULAR WIRELESS|     US|        false|               null|32.72|NA-US-TX-CINGULAR...|Cingular Wireless...|NOT ACCEPTABLE| -97.31|         null|       61391|   TX|           null|      null|         NA| -0.1|-0.83| 0.54|     UNIQUE|  76166|\n",
            "|         FORT WORTH|     US|        false|               4053|32.75| NA-US-TX-FORT WORTH|      Fort Worth, TX|       PRIMARY| -97.33|         null|       61392|   TX|           2126| 122396986|         NA| -0.1|-0.83| 0.54|   STANDARD|  76177|\n",
            "|           FT WORTH|     US|        false|               4053|32.75|   NA-US-TX-FT WORTH|        Ft Worth, TX|    ACCEPTABLE| -97.33|         null|       61393|   TX|           2126| 122396986|         NA| -0.1|-0.83| 0.54|   STANDARD|  76177|\n",
            "|    URB EUGENE RICE|     US|        false|               null|17.96|NA-US-PR-URB EUGE...| Urb Eugene Rice, PR|NOT ACCEPTABLE| -66.22|         null|           4|   PR|           null|      null|         NA| 0.38|-0.87|  0.3|   STANDARD|    704|\n",
            "|               MESA|     US|        false|              26883|33.37|       NA-US-AZ-MESA|            Mesa, AZ|       PRIMARY|-111.64|no NWS data, |       39827|   AZ|          14962| 563792730|         NA| -0.3|-0.77| 0.55|   STANDARD|  85209|\n",
            "|               MESA|     US|        false|              25446|33.38|       NA-US-AZ-MESA|            Mesa, AZ|       PRIMARY|-111.84|         null|       39828|   AZ|          14374| 471000465|         NA|-0.31|-0.77| 0.55|   STANDARD|  85210|\n",
            "|           HILLIARD|     US|        false|               7443|30.69|   NA-US-FL-HILLIARD|        Hilliard, FL|       PRIMARY| -81.92|         null|       49345|   FL|           3922| 133112149|         NA| 0.12|-0.85| 0.51|   STANDARD|  32046|\n",
            "|             HOLDER|     US|        false|               null|28.96|     NA-US-FL-HOLDER|          Holder, FL|       PRIMARY| -82.41|         null|       49346|   FL|           null|      null|         NA| 0.11|-0.86| 0.48|     PO BOX|  34445|\n",
            "|               HOLT|     US|        false|               2190|30.72|       NA-US-FL-HOLT|            Holt, FL|       PRIMARY| -86.67|         null|       49347|   FL|           1207|  36395913|         NA| 0.04|-0.85| 0.51|   STANDARD|  32564|\n",
            "|          HOMOSASSA|     US|        false|               null|28.78|  NA-US-FL-HOMOSASSA|       Homosassa, FL|       PRIMARY| -82.61|         null|       49348|   FL|           null|      null|         NA| 0.11|-0.86| 0.48|     PO BOX|  34487|\n",
            "|       BDA SAN LUIS|     US|        false|               null|18.14|NA-US-PR-BDA SAN ...|    Bda San Luis, PR|NOT ACCEPTABLE| -66.26|         null|          10|   PR|           null|      null|         NA| 0.38|-0.86| 0.31|   STANDARD|    708|\n",
            "|      SECT LANAUSSE|     US|        false|               null|17.96|NA-US-PR-SECT LAN...|   Sect Lanausse, PR|NOT ACCEPTABLE| -66.22|         null|           3|   PR|           null|      null|         NA| 0.38|-0.87|  0.3|   STANDARD|    704|\n",
            "|      SPRING GARDEN|     US|        false|               null|33.97|NA-US-AL-SPRING G...|   Spring Garden, AL|       PRIMARY| -85.55|         null|       54354|   AL|           null|      null|         NA| 0.06|-0.82| 0.55|     PO BOX|  36275|\n",
            "|        SPRINGVILLE|     US|        false|               7845|33.77|NA-US-AL-SPRINGVILLE|     Springville, AL|       PRIMARY| -86.47|         null|       54355|   AL|           4046| 172127599|         NA| 0.05|-0.82| 0.55|   STANDARD|  35146|\n",
            "|        SPRUCE PINE|     US|        false|               1209|34.37|NA-US-AL-SPRUCE PINE|     Spruce Pine, AL|       PRIMARY| -87.69|         null|       54356|   AL|            610|  18525517|         NA| 0.03|-0.82| 0.56|   STANDARD|  35585|\n",
            "|           ASH HILL|     US|        false|               1666| 36.4|   NA-US-NC-ASH HILL|        Ash Hill, NC|NOT ACCEPTABLE| -80.56|         null|       76511|   NC|            842|  28876493|         NA| 0.13|-0.79| 0.59|   STANDARD|  27007|\n",
            "|           ASHEBORO|     US|        false|              15228|35.71|   NA-US-NC-ASHEBORO|        Asheboro, NC|       PRIMARY| -79.81|         null|       76512|   NC|           8355| 215474318|         NA| 0.14|-0.79| 0.58|   STANDARD|  27203|\n",
            "+-------------------+-------+-------------+-------------------+-----+--------------------+--------------------+--------------+-------+-------------+------------+-----+---------------+----------+-----------+-----+-----+-----+-----------+-------+\n",
            "only showing top 20 rows\n",
            "\n"
          ]
        }
      ],
      "source": [
        "#load json\n",
        "df = spark.read.format('json').load(\"/content/zipcodes.json\")\n",
        "df.printSchema()\n",
        "df.show()"
      ]
    },
    {
      "cell_type": "code",
      "execution_count": 22,
      "id": "86a39ad6-3323-4741-bf68-c46d0c55b580",
      "metadata": {
        "tags": [],
        "colab": {
          "base_uri": "https://localhost:8080/"
        },
        "id": "86a39ad6-3323-4741-bf68-c46d0c55b580",
        "outputId": "0c010cf7-0207-4ba7-aa96-f35251a376b9"
      },
      "outputs": [
        {
          "output_type": "stream",
          "name": "stdout",
          "text": [
            "+-----+--------------------+\n",
            "|Seqno|               Quote|\n",
            "+-----+--------------------+\n",
            "|    1|Be the change tha...|\n",
            "|    2|Everyone thinks o...|\n",
            "|    3|The purpose of ou...|\n",
            "|    4|            Be cool.|\n",
            "+-----+--------------------+\n",
            "\n",
            "+-----+-----------------------------------------------------------------------------+\n",
            "|Seqno|Quote                                                                        |\n",
            "+-----+-----------------------------------------------------------------------------+\n",
            "|1    |Be the change that you wish to see in the world                              |\n",
            "|2    |Everyone thinks of changing the world, but no one thinks of changing himself.|\n",
            "|3    |The purpose of our lives is to be happy.                                     |\n",
            "|4    |Be cool.                                                                     |\n",
            "+-----+-----------------------------------------------------------------------------+\n",
            "\n",
            "+-----+-------------------------+\n",
            "|Seqno|                    Quote|\n",
            "+-----+-------------------------+\n",
            "|    1|Be the change that you...|\n",
            "|    2|Everyone thinks of cha...|\n",
            "+-----+-------------------------+\n",
            "only showing top 2 rows\n",
            "\n",
            "-RECORD 0--------------------------\n",
            " Seqno | 1                         \n",
            " Quote | Be the change that you... \n",
            "-RECORD 1--------------------------\n",
            " Seqno | 2                         \n",
            " Quote | Everyone thinks of cha... \n",
            "-RECORD 2--------------------------\n",
            " Seqno | 3                         \n",
            " Quote | The purpose of our liv... \n",
            "only showing top 3 rows\n",
            "\n"
          ]
        }
      ],
      "source": [
        "#show\n",
        "data = [(\"1\", \"Be the change that you wish to see in the world\"),\n",
        "(\"2\", \"Everyone thinks of changing the world, but no one thinks of changing himself.\"),\n",
        "(\"3\", \"The purpose of our lives is to be happy.\"),\n",
        "(\"4\", \"Be cool.\")]\n",
        "df = spark.createDataFrame(data, [\"Seqno\", \"Quote\"])\n",
        "df.show()\n",
        "df.show(truncate=False)\n",
        "df.show(2, truncate=25) \n",
        "df.show(n=3,truncate=25,vertical=True)"
      ]
    },
    {
      "cell_type": "code",
      "execution_count": 23,
      "id": "d2008ab6-8bb6-45d1-aea1-28c6295a86dc",
      "metadata": {
        "tags": [],
        "colab": {
          "base_uri": "https://localhost:8080/"
        },
        "id": "d2008ab6-8bb6-45d1-aea1-28c6295a86dc",
        "outputId": "441e155e-421d-4570-82fe-9524bb3cb95c"
      },
      "outputs": [
        {
          "output_type": "stream",
          "name": "stdout",
          "text": [
            "root\n",
            " |-- firstname: string (nullable = true)\n",
            " |-- middlename: string (nullable = true)\n",
            " |-- lastname: string (nullable = true)\n",
            " |-- id: string (nullable = true)\n",
            " |-- gender: string (nullable = true)\n",
            " |-- salary: integer (nullable = true)\n",
            "\n"
          ]
        }
      ],
      "source": [
        "#simple scheme\n",
        "from pyspark.sql.types import StructType,StructField, StringType, IntegerType\n",
        "\n",
        "data = [(\"James\",\"\",\"Smith\",\"36636\",\"M\",3000),\n",
        "(\"Michael\",\"Rose\",\"\",\"40288\",\"M\",4000),\n",
        "(\"Robert\",\"\",\"Williams\",\"42114\",\"M\",4000),\n",
        "(\"Maria\",\"Anne\",\"Jones\",\"39192\",\"F\",4000),\n",
        "(\"Jen\",\"Mary\",\"Brown\",\"\",\"F\",3500)]\n",
        "\n",
        "schema = StructType([\n",
        "StructField(\"firstname\",StringType(),True),\n",
        "StructField(\"middlename\",StringType(),True),\n",
        "StructField(\"lastname\",StringType(),True),\n",
        "StructField(\"id\", StringType(), True),\n",
        "StructField(\"gender\", StringType(), True),\n",
        "StructField(\"salary\", IntegerType(), True)])\n",
        " \n",
        "df = spark.createDataFrame(data=data,schema=schema)\n",
        "df.printSchema()"
      ]
    },
    {
      "cell_type": "code",
      "execution_count": 24,
      "id": "10b39277-5bd8-4d97-a046-ae5e6cf09b60",
      "metadata": {
        "tags": [],
        "colab": {
          "base_uri": "https://localhost:8080/"
        },
        "id": "10b39277-5bd8-4d97-a046-ae5e6cf09b60",
        "outputId": "7ba4450e-479f-41a9-ae8d-52ebfdaa3a10"
      },
      "outputs": [
        {
          "output_type": "stream",
          "name": "stdout",
          "text": [
            "+---------+\n",
            "|firstname|\n",
            "+---------+\n",
            "|    James|\n",
            "|  Michael|\n",
            "|   Robert|\n",
            "|    Maria|\n",
            "|      Jen|\n",
            "+---------+\n",
            "\n",
            "+---------+\n",
            "|firstname|\n",
            "+---------+\n",
            "|    James|\n",
            "|  Michael|\n",
            "|   Robert|\n",
            "|    Maria|\n",
            "|      Jen|\n",
            "+---------+\n",
            "\n",
            "+---------+\n",
            "|firstname|\n",
            "+---------+\n",
            "|    James|\n",
            "|  Michael|\n",
            "|   Robert|\n",
            "|    Maria|\n",
            "|      Jen|\n",
            "+---------+\n",
            "\n"
          ]
        }
      ],
      "source": [
        "df.select(df.firstname).show()\n",
        "df.select(df['firstname']).show()\n",
        "df.select('firstname').show()"
      ]
    },
    {
      "cell_type": "code",
      "execution_count": 25,
      "id": "f91684ee-27d9-4d7c-b108-ee32eb1fd480",
      "metadata": {
        "tags": [],
        "colab": {
          "base_uri": "https://localhost:8080/"
        },
        "id": "f91684ee-27d9-4d7c-b108-ee32eb1fd480",
        "outputId": "d88bbd27-e576-40fe-961a-fa757a25d08b"
      },
      "outputs": [
        {
          "output_type": "stream",
          "name": "stdout",
          "text": [
            "+---------+\n",
            "|firstname|\n",
            "+---------+\n",
            "|    James|\n",
            "|  Michael|\n",
            "|   Robert|\n",
            "|    Maria|\n",
            "|      Jen|\n",
            "+---------+\n",
            "\n"
          ]
        }
      ],
      "source": [
        "from pyspark.sql.functions import col\n",
        "df.select(col('firstname')).show()"
      ]
    },
    {
      "cell_type": "code",
      "execution_count": 28,
      "id": "bbbeaced-6556-48e1-8ea3-52c38cba94c8",
      "metadata": {
        "tags": [],
        "colab": {
          "base_uri": "https://localhost:8080/"
        },
        "id": "bbbeaced-6556-48e1-8ea3-52c38cba94c8",
        "outputId": "8acde492-46c2-412c-e74d-40b68327e536"
      },
      "outputs": [
        {
          "output_type": "stream",
          "name": "stdout",
          "text": [
            "+--------------+\n",
            "|(salary * 0.1)|\n",
            "+--------------+\n",
            "|         300.0|\n",
            "|         400.0|\n",
            "|         400.0|\n",
            "|         400.0|\n",
            "|         350.0|\n",
            "+--------------+\n",
            "\n"
          ]
        }
      ],
      "source": [
        "df.select(df.salary*0.1).show()"
      ]
    },
    {
      "cell_type": "code",
      "execution_count": 29,
      "id": "a1694d32-e76c-487e-97d7-2de72cfcbc7e",
      "metadata": {
        "tags": [],
        "colab": {
          "base_uri": "https://localhost:8080/"
        },
        "id": "a1694d32-e76c-487e-97d7-2de72cfcbc7e",
        "outputId": "fd62e6b6-558a-40e3-aec8-d632a910f2b0"
      },
      "outputs": [
        {
          "output_type": "stream",
          "name": "stdout",
          "text": [
            "+---------+----------+--------+-----+------+------+-----+\n",
            "|firstname|middlename|lastname|   id|gender|salary|  tax|\n",
            "+---------+----------+--------+-----+------+------+-----+\n",
            "|    James|          |   Smith|36636|     M|  3000|300.0|\n",
            "|  Michael|      Rose|        |40288|     M|  4000|400.0|\n",
            "|   Robert|          |Williams|42114|     M|  4000|400.0|\n",
            "|    Maria|      Anne|   Jones|39192|     F|  4000|400.0|\n",
            "|      Jen|      Mary|   Brown|     |     F|  3500|350.0|\n",
            "+---------+----------+--------+-----+------+------+-----+\n",
            "\n"
          ]
        }
      ],
      "source": [
        "df.withColumn(\"tax\", df.salary*0.1).drop('age', 'state').show()"
      ]
    },
    {
      "cell_type": "code",
      "execution_count": 30,
      "id": "af5e3df9-55a0-4d87-80c7-d0c57fecb31f",
      "metadata": {
        "tags": [],
        "id": "af5e3df9-55a0-4d87-80c7-d0c57fecb31f"
      },
      "outputs": [],
      "source": [
        "#save to csv and json\n",
        "df.write.option(\"header\", True).csv(\"file:/home/msobh/emp_data_csv\")\n",
        "df.write.json(\"file:/home/msobh/emp_data_json\")"
      ]
    },
    {
      "cell_type": "code",
      "execution_count": 31,
      "id": "fd086a71-a1a3-48af-85b8-f490d9624c8c",
      "metadata": {
        "tags": [],
        "colab": {
          "base_uri": "https://localhost:8080/"
        },
        "id": "fd086a71-a1a3-48af-85b8-f490d9624c8c",
        "outputId": "28aa1068-974b-46d2-a070-eb969979cc9d"
      },
      "outputs": [
        {
          "output_type": "stream",
          "name": "stdout",
          "text": [
            "root\n",
            " |-- name: struct (nullable = true)\n",
            " |    |-- firstname: string (nullable = true)\n",
            " |    |-- middlename: string (nullable = true)\n",
            " |    |-- lastname: string (nullable = true)\n",
            " |-- id: string (nullable = true)\n",
            " |-- gender: string (nullable = true)\n",
            " |-- salary: integer (nullable = true)\n",
            "\n",
            "+--------------------+-----+------+------+\n",
            "|name                |id   |gender|salary|\n",
            "+--------------------+-----+------+------+\n",
            "|{James, , Smith}    |36636|M     |3100  |\n",
            "|{Michael, Rose, }   |40288|M     |4300  |\n",
            "|{Robert, , Williams}|42114|M     |1400  |\n",
            "|{Maria, Anne, Jones}|39192|F     |5500  |\n",
            "|{Jen, Mary, Brown}  |     |F     |-1    |\n",
            "+--------------------+-----+------+------+\n",
            "\n"
          ]
        }
      ],
      "source": [
        "#nested scheme\n",
        "structureData = [\n",
        "((\"James\",\"\",\"Smith\"),\"36636\",\"M\",3100),\n",
        "((\"Michael\",\"Rose\",\"\"),\"40288\",\"M\",4300),\n",
        "((\"Robert\",\"\",\"Williams\"),\"42114\",\"M\",1400),\n",
        "((\"Maria\",\"Anne\",\"Jones\"),\"39192\",\"F\",5500),\n",
        "((\"Jen\",\"Mary\",\"Brown\"),\"\",\"F\",-1)]\n",
        "\n",
        "structureSchema = StructType([\n",
        "StructField('name', StructType([\n",
        "    StructField('firstname', StringType(), True),\n",
        "    StructField('middlename', StringType(), True),\n",
        "    StructField('lastname', StringType(), True)])),\n",
        "StructField('id', StringType(), True),\n",
        "StructField('gender', StringType(), True),\n",
        "StructField('salary', IntegerType(), True)])\n",
        "\n",
        "df = spark.createDataFrame(data=structureData,schema=structureSchema)\n",
        "df.printSchema()\n",
        "df.show(truncate=False)"
      ]
    },
    {
      "cell_type": "code",
      "execution_count": 32,
      "id": "debad796-2aec-4056-aa53-9882e9bd1da6",
      "metadata": {
        "tags": [],
        "colab": {
          "base_uri": "https://localhost:8080/"
        },
        "id": "debad796-2aec-4056-aa53-9882e9bd1da6",
        "outputId": "1f779cd5-8a5c-42d6-88fb-38b164e321ae"
      },
      "outputs": [
        {
          "output_type": "stream",
          "name": "stdout",
          "text": [
            "+---------+\n",
            "|firstname|\n",
            "+---------+\n",
            "|    James|\n",
            "|  Michael|\n",
            "|   Robert|\n",
            "|    Maria|\n",
            "|      Jen|\n",
            "+---------+\n",
            "\n",
            "+--------------+\n",
            "|name.firstname|\n",
            "+--------------+\n",
            "|         James|\n",
            "|       Michael|\n",
            "|        Robert|\n",
            "|         Maria|\n",
            "|           Jen|\n",
            "+--------------+\n",
            "\n"
          ]
        }
      ],
      "source": [
        "df.select('name.firstname').show()\n",
        "df.select(df.name.firstname).show()"
      ]
    },
    {
      "cell_type": "code",
      "execution_count": 33,
      "id": "d9c9d21b-4447-4478-9e6c-090a5265b2b7",
      "metadata": {
        "tags": [],
        "colab": {
          "base_uri": "https://localhost:8080/"
        },
        "id": "d9c9d21b-4447-4478-9e6c-090a5265b2b7",
        "outputId": "bfd23904-b6f6-4205-dc04-6742d961a50e"
      },
      "outputs": [
        {
          "output_type": "stream",
          "name": "stdout",
          "text": [
            "+---------+--------+-------+-----+------+\n",
            "|firstname|lastname|country|state|gender|\n",
            "+---------+--------+-------+-----+------+\n",
            "|James    |Smith   |USA    |CA   |M     |\n",
            "|Michael  |Rose    |USA    |NY   |M     |\n",
            "|Robert   |Williams|USA    |CA   |M     |\n",
            "|Sara     |James   |USA    |OH   |F     |\n",
            "|Maria    |Jones   |USA    |FL   |F     |\n",
            "+---------+--------+-------+-----+------+\n",
            "\n"
          ]
        }
      ],
      "source": [
        "#select\n",
        "data = [(\"James\",\"Smith\",\"USA\",\"CA\", \"M\"),\n",
        "(\"Michael\",\"Rose\",\"USA\",\"NY\", \"M\"),\n",
        "(\"Robert\",\"Williams\",\"USA\",\"CA\", \"M\"),\n",
        "(\"Sara\",\"James\",\"USA\",\"OH\", \"F\"),\n",
        "(\"Maria\",\"Jones\",\"USA\",\"FL\", \"F\")]\n",
        "\n",
        "columns = [\"firstname\", \"lastname\", \"country\", \"state\", \"gender\"]\n",
        "df = spark.createDataFrame(data = data, schema = columns)\n",
        "df.show(truncate = False)"
      ]
    },
    {
      "cell_type": "code",
      "execution_count": 34,
      "id": "b558613b-3d62-42bc-87bd-c72220516033",
      "metadata": {
        "tags": [],
        "colab": {
          "base_uri": "https://localhost:8080/"
        },
        "id": "b558613b-3d62-42bc-87bd-c72220516033",
        "outputId": "d09b8189-fd68-45b6-a01e-396d702ffc93"
      },
      "outputs": [
        {
          "output_type": "stream",
          "name": "stdout",
          "text": [
            "+---------+--------+\n",
            "|firstname|lastname|\n",
            "+---------+--------+\n",
            "|    James|   Smith|\n",
            "|  Michael|    Rose|\n",
            "|   Robert|Williams|\n",
            "|     Sara|   James|\n",
            "|    Maria|   Jones|\n",
            "+---------+--------+\n",
            "\n"
          ]
        }
      ],
      "source": [
        "df.select('firstname', 'lastname').show()"
      ]
    },
    {
      "cell_type": "code",
      "execution_count": 35,
      "id": "c4290da2-3465-43bd-88e3-2404dce5c29f",
      "metadata": {
        "tags": [],
        "colab": {
          "base_uri": "https://localhost:8080/"
        },
        "id": "c4290da2-3465-43bd-88e3-2404dce5c29f",
        "outputId": "346223fd-54f2-45dd-98e0-d3121bcf0bca"
      },
      "outputs": [
        {
          "output_type": "stream",
          "name": "stdout",
          "text": [
            "+---------+--------+-------+-----+------+\n",
            "|firstname|lastname|country|state|gender|\n",
            "+---------+--------+-------+-----+------+\n",
            "|    James|   Smith|    USA|   CA|     M|\n",
            "|  Michael|    Rose|    USA|   NY|     M|\n",
            "|   Robert|Williams|    USA|   CA|     M|\n",
            "|     Sara|   James|    USA|   OH|     F|\n",
            "|    Maria|   Jones|    USA|   FL|     F|\n",
            "+---------+--------+-------+-----+------+\n",
            "\n"
          ]
        }
      ],
      "source": [
        "df.select('*').show()"
      ]
    },
    {
      "cell_type": "code",
      "execution_count": 36,
      "id": "95d678f0-b42a-4623-a55b-4b011455e7a6",
      "metadata": {
        "tags": [],
        "colab": {
          "base_uri": "https://localhost:8080/"
        },
        "id": "95d678f0-b42a-4623-a55b-4b011455e7a6",
        "outputId": "ecac9e39-681f-4a5a-ecb8-3c15d3cd12f6"
      },
      "outputs": [
        {
          "output_type": "stream",
          "name": "stdout",
          "text": [
            "+---------+--------+-------+-----+------+\n",
            "|firstname|lastname|country|state|gender|\n",
            "+---------+--------+-------+-----+------+\n",
            "|    James|   Smith|    USA|   CA|     M|\n",
            "|  Michael|    Rose|    USA|   NY|     M|\n",
            "|   Robert|Williams|    USA|   CA|     M|\n",
            "|     Sara|   James|    USA|   OH|     F|\n",
            "|    Maria|   Jones|    USA|   FL|     F|\n",
            "+---------+--------+-------+-----+------+\n",
            "\n"
          ]
        }
      ],
      "source": [
        "df.select(df.columns).show()"
      ]
    },
    {
      "cell_type": "code",
      "execution_count": 37,
      "id": "4110e71e-f314-40c3-902e-099ed6fd34b9",
      "metadata": {
        "tags": [],
        "colab": {
          "base_uri": "https://localhost:8080/"
        },
        "id": "4110e71e-f314-40c3-902e-099ed6fd34b9",
        "outputId": "1ed4d11c-9e0d-430f-c204-6bd482fa304d"
      },
      "outputs": [
        {
          "output_type": "stream",
          "name": "stdout",
          "text": [
            "+---------+--------+-------+-----+------+\n",
            "|firstname|lastname|country|state|gender|\n",
            "+---------+--------+-------+-----+------+\n",
            "|    James|   Smith|    USA|   CA|     M|\n",
            "|  Michael|    Rose|    USA|   NY|     M|\n",
            "|   Robert|Williams|    USA|   CA|     M|\n",
            "|     Sara|   James|    USA|   OH|     F|\n",
            "+---------+--------+-------+-----+------+\n",
            "\n"
          ]
        }
      ],
      "source": [
        "#filter\n",
        "df.select('*').filter(df.state!='FL').show()"
      ]
    },
    {
      "cell_type": "code",
      "execution_count": 38,
      "id": "eabf731d-0c15-49e6-802f-9f59a55a6bf9",
      "metadata": {
        "tags": [],
        "colab": {
          "base_uri": "https://localhost:8080/"
        },
        "id": "eabf731d-0c15-49e6-802f-9f59a55a6bf9",
        "outputId": "03d9f2cc-c0cd-4329-ad73-0eb042958209"
      },
      "outputs": [
        {
          "output_type": "stream",
          "name": "stdout",
          "text": [
            "+---------+--------+-------+-----+------+\n",
            "|firstname|lastname|country|state|gender|\n",
            "+---------+--------+-------+-----+------+\n",
            "|    James|   Smith|    USA|   CA|     M|\n",
            "|  Michael|    Rose|    USA|   NY|     M|\n",
            "|   Robert|Williams|    USA|   CA|     M|\n",
            "|     Sara|   James|    USA|   OH|     F|\n",
            "+---------+--------+-------+-----+------+\n",
            "\n"
          ]
        }
      ],
      "source": [
        "df.select('*').where(df.state!='FL').show()"
      ]
    },
    {
      "cell_type": "code",
      "execution_count": 39,
      "id": "d013216e-63a3-46e4-a7cf-d9227916e4eb",
      "metadata": {
        "tags": [],
        "colab": {
          "base_uri": "https://localhost:8080/"
        },
        "id": "d013216e-63a3-46e4-a7cf-d9227916e4eb",
        "outputId": "5deda574-b90c-4fd3-b88a-b78c6fb80c18"
      },
      "outputs": [
        {
          "output_type": "stream",
          "name": "stdout",
          "text": [
            "+---------+--------+-------+-----+------+\n",
            "|firstname|lastname|country|state|gender|\n",
            "+---------+--------+-------+-----+------+\n",
            "|    James|   Smith|    USA|   CA|     M|\n",
            "|  Michael|    Rose|    USA|   NY|     M|\n",
            "|   Robert|Williams|    USA|   CA|     M|\n",
            "+---------+--------+-------+-----+------+\n",
            "\n"
          ]
        }
      ],
      "source": [
        "df.select('*').filter((df.state!='FL') & (df.gender=='M')).show()"
      ]
    },
    {
      "cell_type": "code",
      "execution_count": 40,
      "id": "3090dc32-e3ec-4b6c-8827-75e49f7a04fe",
      "metadata": {
        "tags": [],
        "colab": {
          "base_uri": "https://localhost:8080/"
        },
        "id": "3090dc32-e3ec-4b6c-8827-75e49f7a04fe",
        "outputId": "c024b200-29ad-4a5a-f869-c9fceec0d51a"
      },
      "outputs": [
        {
          "output_type": "stream",
          "name": "stdout",
          "text": [
            "+---------+--------+-------+-----+------+\n",
            "|firstname|lastname|country|state|gender|\n",
            "+---------+--------+-------+-----+------+\n",
            "|     Sara|   James|    USA|   OH|     F|\n",
            "|    Maria|   Jones|    USA|   FL|     F|\n",
            "+---------+--------+-------+-----+------+\n",
            "\n"
          ]
        }
      ],
      "source": [
        "df.select('*').filter(df.state.isin('FL', 'OH')).show()"
      ]
    },
    {
      "cell_type": "code",
      "execution_count": 41,
      "id": "094f5d38-b476-40e9-9688-c83849a6b8f5",
      "metadata": {
        "tags": [],
        "colab": {
          "base_uri": "https://localhost:8080/"
        },
        "id": "094f5d38-b476-40e9-9688-c83849a6b8f5",
        "outputId": "d6dddd77-d6b7-4bda-f5a3-6f220e956a81"
      },
      "outputs": [
        {
          "output_type": "stream",
          "name": "stdout",
          "text": [
            "+---------+--------+-------+-----+------+\n",
            "|firstname|lastname|country|state|gender|\n",
            "+---------+--------+-------+-----+------+\n",
            "|  Michael|    Rose|    USA|   NY|     M|\n",
            "+---------+--------+-------+-----+------+\n",
            "\n"
          ]
        }
      ],
      "source": [
        "df.filter(df.state.startswith(\"N\")).show()"
      ]
    },
    {
      "cell_type": "code",
      "execution_count": 42,
      "id": "ba128f99-1f08-4c6d-8373-b41efd00dbab",
      "metadata": {
        "tags": [],
        "colab": {
          "base_uri": "https://localhost:8080/"
        },
        "id": "ba128f99-1f08-4c6d-8373-b41efd00dbab",
        "outputId": "179b0876-3f19-4b6e-f104-4283cf8f88a0"
      },
      "outputs": [
        {
          "output_type": "stream",
          "name": "stdout",
          "text": [
            "+---------+--------+-------+-----+------+\n",
            "|firstname|lastname|country|state|gender|\n",
            "+---------+--------+-------+-----+------+\n",
            "|     Sara|   James|    USA|   OH|     F|\n",
            "+---------+--------+-------+-----+------+\n",
            "\n"
          ]
        }
      ],
      "source": [
        "df.filter(df.state.endswith(\"H\")).show()"
      ]
    },
    {
      "cell_type": "code",
      "execution_count": 43,
      "id": "eaf9d09f-8e46-42f0-8f26-90b25c3f60fb",
      "metadata": {
        "tags": [],
        "colab": {
          "base_uri": "https://localhost:8080/"
        },
        "id": "eaf9d09f-8e46-42f0-8f26-90b25c3f60fb",
        "outputId": "07cc8540-18d9-4504-9c56-656d10a9283e"
      },
      "outputs": [
        {
          "output_type": "stream",
          "name": "stdout",
          "text": [
            "+---------+--------+-------+-----+------+\n",
            "|firstname|lastname|country|state|gender|\n",
            "+---------+--------+-------+-----+------+\n",
            "|    James|   Smith|    USA|   CA|     M|\n",
            "|  Michael|    Rose|    USA|   NY|     M|\n",
            "|     Sara|   James|    USA|   OH|     F|\n",
            "|    Maria|   Jones|    USA|   FL|     F|\n",
            "+---------+--------+-------+-----+------+\n",
            "\n"
          ]
        }
      ],
      "source": [
        "df.filter(df.firstname.contains(\"a\")).show()"
      ]
    },
    {
      "cell_type": "code",
      "execution_count": 44,
      "id": "0698a9a3-3ed3-418e-9ff2-e69df271d18b",
      "metadata": {
        "tags": [],
        "colab": {
          "base_uri": "https://localhost:8080/"
        },
        "id": "0698a9a3-3ed3-418e-9ff2-e69df271d18b",
        "outputId": "d994ea62-8f96-4229-c5ac-487924aaecf9"
      },
      "outputs": [
        {
          "output_type": "stream",
          "name": "stdout",
          "text": [
            "root\n",
            " |-- employee_name: string (nullable = true)\n",
            " |-- department: string (nullable = true)\n",
            " |-- salary: long (nullable = true)\n",
            "\n",
            "+-------------+----------+------+\n",
            "|employee_name|department|salary|\n",
            "+-------------+----------+------+\n",
            "|James        |Sales     |3000  |\n",
            "|Michael      |Sales     |4600  |\n",
            "|Robert       |Sales     |4100  |\n",
            "|Maria        |Finance   |3000  |\n",
            "|James        |Sales     |3000  |\n",
            "|Scott        |Finance   |3300  |\n",
            "|Jen          |Finance   |3900  |\n",
            "|Jeff         |Marketing |3000  |\n",
            "|Kumar        |Marketing |2000  |\n",
            "|Saif         |Sales     |4100  |\n",
            "+-------------+----------+------+\n",
            "\n"
          ]
        }
      ],
      "source": [
        "#drop\n",
        "data = [(\"James\", \"Sales\", 3000),\n",
        "(\"Michael\", \"Sales\", 4600),\n",
        "(\"Robert\", \"Sales\", 4100),\n",
        "(\"Maria\", \"Finance\", 3000),\n",
        "(\"James\", \"Sales\", 3000),\n",
        "(\"Scott\", \"Finance\", 3300),\n",
        "(\"Jen\", \"Finance\", 3900),\n",
        "(\"Jeff\", \"Marketing\", 3000),\n",
        "(\"Kumar\", \"Marketing\", 2000),\n",
        "(\"Saif\", \"Sales\", 4100)]\n",
        "columns= [\"employee_name\", \"department\", \"salary\"]\n",
        "df = spark.createDataFrame(data = data, schema = columns)\n",
        "df.printSchema()\n",
        "df.show(truncate=False)"
      ]
    },
    {
      "cell_type": "code",
      "execution_count": 45,
      "id": "eb25a1f9-1b8c-4a2e-8396-7b8381ad61c9",
      "metadata": {
        "tags": [],
        "colab": {
          "base_uri": "https://localhost:8080/"
        },
        "id": "eb25a1f9-1b8c-4a2e-8396-7b8381ad61c9",
        "outputId": "055293b2-54e0-4652-80b8-2832da2aa34f"
      },
      "outputs": [
        {
          "output_type": "stream",
          "name": "stdout",
          "text": [
            "+-------------+----------+------+\n",
            "|employee_name|department|salary|\n",
            "+-------------+----------+------+\n",
            "|          Jen|   Finance|  3900|\n",
            "|      Michael|     Sales|  4600|\n",
            "|        Scott|   Finance|  3300|\n",
            "|        Kumar| Marketing|  2000|\n",
            "|        James|     Sales|  3000|\n",
            "|       Robert|     Sales|  4100|\n",
            "|         Jeff| Marketing|  3000|\n",
            "|         Saif|     Sales|  4100|\n",
            "|        Maria|   Finance|  3000|\n",
            "+-------------+----------+------+\n",
            "\n"
          ]
        }
      ],
      "source": [
        "df.dropDuplicates().show()"
      ]
    },
    {
      "cell_type": "code",
      "execution_count": 46,
      "id": "72796505-0ff7-46a9-bb1b-2bcbf11675e2",
      "metadata": {
        "tags": [],
        "colab": {
          "base_uri": "https://localhost:8080/"
        },
        "id": "72796505-0ff7-46a9-bb1b-2bcbf11675e2",
        "outputId": "1a91c6d2-e6eb-41d8-e5b9-ad0571921378"
      },
      "outputs": [
        {
          "output_type": "stream",
          "name": "stdout",
          "text": [
            "+-------------+----------+------+\n",
            "|employee_name|department|salary|\n",
            "+-------------+----------+------+\n",
            "|        Maria|   Finance|  3000|\n",
            "|        Scott|   Finance|  3300|\n",
            "|          Jen|   Finance|  3900|\n",
            "|        Kumar| Marketing|  2000|\n",
            "|         Jeff| Marketing|  3000|\n",
            "|        James|     Sales|  3000|\n",
            "|       Robert|     Sales|  4100|\n",
            "|      Michael|     Sales|  4600|\n",
            "+-------------+----------+------+\n",
            "\n"
          ]
        }
      ],
      "source": [
        "df.dropDuplicates([\"department\",\"salary\"]).show()"
      ]
    },
    {
      "cell_type": "code",
      "execution_count": 47,
      "id": "269fa5ad-69ad-42ed-932d-3e7e0dd061e6",
      "metadata": {
        "tags": [],
        "colab": {
          "base_uri": "https://localhost:8080/"
        },
        "id": "269fa5ad-69ad-42ed-932d-3e7e0dd061e6",
        "outputId": "d24a9c1a-afe1-4b58-87c2-4863cb485679"
      },
      "outputs": [
        {
          "output_type": "stream",
          "name": "stdout",
          "text": [
            "+-------------+----------+------+\n",
            "|employee_name|department|salary|\n",
            "+-------------+----------+------+\n",
            "|          Jen|   Finance|  3900|\n",
            "|      Michael|     Sales|  4600|\n",
            "|        Scott|   Finance|  3300|\n",
            "|        Kumar| Marketing|  2000|\n",
            "|        James|     Sales|  3000|\n",
            "|       Robert|     Sales|  4100|\n",
            "|         Jeff| Marketing|  3000|\n",
            "|         Saif|     Sales|  4100|\n",
            "|        Maria|   Finance|  3000|\n",
            "+-------------+----------+------+\n",
            "\n"
          ]
        }
      ],
      "source": [
        "df.distinct().show()"
      ]
    },
    {
      "cell_type": "code",
      "execution_count": 48,
      "id": "87045a78-72ca-40ea-8578-58894c478b06",
      "metadata": {
        "tags": [],
        "colab": {
          "base_uri": "https://localhost:8080/"
        },
        "id": "87045a78-72ca-40ea-8578-58894c478b06",
        "outputId": "4ca53221-82e3-49c6-d59d-2a4e37d84a9d"
      },
      "outputs": [
        {
          "output_type": "stream",
          "name": "stdout",
          "text": [
            "+----------+\n",
            "|department|\n",
            "+----------+\n",
            "|     Sales|\n",
            "|   Finance|\n",
            "| Marketing|\n",
            "+----------+\n",
            "\n"
          ]
        }
      ],
      "source": [
        "df.select('department').distinct().show()"
      ]
    },
    {
      "cell_type": "code",
      "execution_count": 49,
      "id": "df859e8a-e2a0-4e6c-9a0c-ca81f49b1263",
      "metadata": {
        "tags": [],
        "colab": {
          "base_uri": "https://localhost:8080/"
        },
        "id": "df859e8a-e2a0-4e6c-9a0c-ca81f49b1263",
        "outputId": "75ce390e-cee8-453f-f747-07d8165ecde6"
      },
      "outputs": [
        {
          "output_type": "stream",
          "name": "stdout",
          "text": [
            "root\n",
            " |-- employee_name: string (nullable = true)\n",
            " |-- department: string (nullable = true)\n",
            " |-- state: string (nullable = true)\n",
            " |-- salary: long (nullable = true)\n",
            " |-- age: long (nullable = true)\n",
            " |-- bonus: long (nullable = true)\n",
            "\n",
            "+-------------+----------+-----+------+---+-----+\n",
            "|employee_name|department|state|salary|age|bonus|\n",
            "+-------------+----------+-----+------+---+-----+\n",
            "|James        |Sales     |NY   |90000 |34 |10000|\n",
            "|Michael      |Sales     |NY   |86000 |56 |20000|\n",
            "|Robert       |Sales     |CA   |81000 |30 |23000|\n",
            "|Maria        |Finance   |CA   |90000 |24 |23000|\n",
            "|Raman        |Finance   |CA   |99000 |40 |24000|\n",
            "|Scott        |Finance   |NY   |83000 |36 |19000|\n",
            "|Jen          |Finance   |NY   |79000 |53 |15000|\n",
            "|Jeff         |Marketing |CA   |80000 |25 |18000|\n",
            "|Kumar        |Marketing |NY   |91000 |50 |21000|\n",
            "+-------------+----------+-----+------+---+-----+\n",
            "\n"
          ]
        }
      ],
      "source": [
        "#group By\n",
        "simpleData = [(\"James\",\"Sales\",\"NY\",90000,34,10000),\n",
        "(\"Michael\",\"Sales\",\"NY\",86000,56,20000),\n",
        "(\"Robert\",\"Sales\",\"CA\",81000,30,23000),\n",
        "(\"Maria\",\"Finance\",\"CA\",90000,24,23000),\n",
        "(\"Raman\",\"Finance\",\"CA\",99000,40,24000),\n",
        "(\"Scott\",\"Finance\",\"NY\",83000,36,19000),\n",
        "(\"Jen\",\"Finance\",\"NY\",79000,53,15000),\n",
        "(\"Jeff\",\"Marketing\",\"CA\",80000,25,18000),\n",
        "(\"Kumar\",\"Marketing\",\"NY\",91000,50,21000)]\n",
        "\n",
        "schema = [\"employee_name\",\"department\",\"state\",\"salary\",\"age\",\"bonus\"]\n",
        "df = spark.createDataFrame(data=simpleData, schema = schema)\n",
        "df.printSchema()\n",
        "df.show(truncate=False)"
      ]
    },
    {
      "cell_type": "code",
      "execution_count": 50,
      "id": "68953ba5-c29d-4ddd-966d-7dde801ab9e5",
      "metadata": {
        "tags": [],
        "colab": {
          "base_uri": "https://localhost:8080/"
        },
        "id": "68953ba5-c29d-4ddd-966d-7dde801ab9e5",
        "outputId": "3b752431-5e43-496e-fcbe-ad52e7a8a2d9"
      },
      "outputs": [
        {
          "output_type": "stream",
          "name": "stdout",
          "text": [
            "+----------+-----------+\n",
            "|department|sum(salary)|\n",
            "+----------+-----------+\n",
            "|     Sales|     257000|\n",
            "|   Finance|     351000|\n",
            "| Marketing|     171000|\n",
            "+----------+-----------+\n",
            "\n"
          ]
        }
      ],
      "source": [
        "df.groupBy(\"department\").sum(\"salary\").show()"
      ]
    },
    {
      "cell_type": "code",
      "execution_count": 51,
      "id": "481c14c6-1bda-4c4c-9686-334c46944306",
      "metadata": {
        "tags": [],
        "colab": {
          "base_uri": "https://localhost:8080/"
        },
        "id": "481c14c6-1bda-4c4c-9686-334c46944306",
        "outputId": "b3f80882-ce13-4a98-f6e5-f8fa89de601c"
      },
      "outputs": [
        {
          "output_type": "stream",
          "name": "stdout",
          "text": [
            "+----------+-----+\n",
            "|department|count|\n",
            "+----------+-----+\n",
            "|     Sales|    3|\n",
            "|   Finance|    4|\n",
            "| Marketing|    2|\n",
            "+----------+-----+\n",
            "\n"
          ]
        }
      ],
      "source": [
        "df.groupBy(\"department\").count().show()"
      ]
    },
    {
      "cell_type": "code",
      "execution_count": 52,
      "id": "1267d4d5-9f30-497f-bb1e-eee12093c4e3",
      "metadata": {
        "tags": [],
        "colab": {
          "base_uri": "https://localhost:8080/"
        },
        "id": "1267d4d5-9f30-497f-bb1e-eee12093c4e3",
        "outputId": "6b2c1176-bf8f-40aa-f8fa-19fa3c9a13da"
      },
      "outputs": [
        {
          "output_type": "stream",
          "name": "stdout",
          "text": [
            "+----------+----------+-----------------+---------+---------+\n",
            "|department|sum_salary|       avg_salary|sum_bonus|max_bonus|\n",
            "+----------+----------+-----------------+---------+---------+\n",
            "|     Sales|    257000|85666.66666666667|    53000|    23000|\n",
            "|   Finance|    351000|          87750.0|    81000|    24000|\n",
            "+----------+----------+-----------------+---------+---------+\n",
            "\n"
          ]
        }
      ],
      "source": [
        "from pyspark.sql.functions import col,sum,avg,max\n",
        "df.groupBy(\"department\").agg(sum(\"salary\").alias(\"sum_salary\"),\n",
        "avg(\"salary\").alias(\"avg_salary\"),\n",
        "sum(\"bonus\").alias(\"sum_bonus\"),\n",
        "max(\"bonus\").alias(\"max_bonus\")).where(col(\"sum_bonus\") >= 50000).show()"
      ]
    },
    {
      "cell_type": "code",
      "execution_count": 53,
      "id": "19e6d749-0a00-44e6-91a6-4fd7e4ef2d14",
      "metadata": {
        "tags": [],
        "colab": {
          "base_uri": "https://localhost:8080/"
        },
        "id": "19e6d749-0a00-44e6-91a6-4fd7e4ef2d14",
        "outputId": "a87fad8b-7fa4-4fc1-e2ca-156de61e5a06"
      },
      "outputs": [
        {
          "output_type": "stream",
          "name": "stdout",
          "text": [
            "+-------------+----------+-----+------+---+-----+\n",
            "|employee_name|department|state|salary|age|bonus|\n",
            "+-------------+----------+-----+------+---+-----+\n",
            "|        Maria|   Finance|   CA| 90000| 24|23000|\n",
            "|        Raman|   Finance|   CA| 99000| 40|24000|\n",
            "|        Scott|   Finance|   NY| 83000| 36|19000|\n",
            "|          Jen|   Finance|   NY| 79000| 53|15000|\n",
            "|         Jeff| Marketing|   CA| 80000| 25|18000|\n",
            "|        Kumar| Marketing|   NY| 91000| 50|21000|\n",
            "|        James|     Sales|   NY| 90000| 34|10000|\n",
            "|      Michael|     Sales|   NY| 86000| 56|20000|\n",
            "|       Robert|     Sales|   CA| 81000| 30|23000|\n",
            "+-------------+----------+-----+------+---+-----+\n",
            "\n"
          ]
        }
      ],
      "source": [
        "#order by\n",
        "df.orderBy('department').show()"
      ]
    },
    {
      "cell_type": "code",
      "execution_count": 54,
      "id": "296fb474-03f7-4e98-a4ff-9c09f4d36215",
      "metadata": {
        "tags": [],
        "colab": {
          "base_uri": "https://localhost:8080/"
        },
        "id": "296fb474-03f7-4e98-a4ff-9c09f4d36215",
        "outputId": "44370406-f2a2-4940-d2a7-328ced8bcb1a"
      },
      "outputs": [
        {
          "output_type": "stream",
          "name": "stdout",
          "text": [
            "+-------------+----------+-----+------+---+-----+\n",
            "|employee_name|department|state|salary|age|bonus|\n",
            "+-------------+----------+-----+------+---+-----+\n",
            "|        Maria|   Finance|   CA| 90000| 24|23000|\n",
            "|        Raman|   Finance|   CA| 99000| 40|24000|\n",
            "|        Scott|   Finance|   NY| 83000| 36|19000|\n",
            "|          Jen|   Finance|   NY| 79000| 53|15000|\n",
            "|         Jeff| Marketing|   CA| 80000| 25|18000|\n",
            "|        Kumar| Marketing|   NY| 91000| 50|21000|\n",
            "|       Robert|     Sales|   CA| 81000| 30|23000|\n",
            "|        James|     Sales|   NY| 90000| 34|10000|\n",
            "|      Michael|     Sales|   NY| 86000| 56|20000|\n",
            "+-------------+----------+-----+------+---+-----+\n",
            "\n"
          ]
        }
      ],
      "source": [
        "df.orderBy('department', 'state').show()"
      ]
    },
    {
      "cell_type": "code",
      "execution_count": 55,
      "id": "40952461-39c0-4fb2-88bd-c0e4f2b66793",
      "metadata": {
        "tags": [],
        "colab": {
          "base_uri": "https://localhost:8080/"
        },
        "id": "40952461-39c0-4fb2-88bd-c0e4f2b66793",
        "outputId": "dee2830a-c542-440c-c366-0f0e942adf3a"
      },
      "outputs": [
        {
          "output_type": "stream",
          "name": "stdout",
          "text": [
            "+-------------+----------+-----+------+---+-----+\n",
            "|employee_name|department|state|salary|age|bonus|\n",
            "+-------------+----------+-----+------+---+-----+\n",
            "|        Maria|   Finance|   CA| 90000| 24|23000|\n",
            "|        Raman|   Finance|   CA| 99000| 40|24000|\n",
            "|        Scott|   Finance|   NY| 83000| 36|19000|\n",
            "|          Jen|   Finance|   NY| 79000| 53|15000|\n",
            "|         Jeff| Marketing|   CA| 80000| 25|18000|\n",
            "|        Kumar| Marketing|   NY| 91000| 50|21000|\n",
            "|       Robert|     Sales|   CA| 81000| 30|23000|\n",
            "|        James|     Sales|   NY| 90000| 34|10000|\n",
            "|      Michael|     Sales|   NY| 86000| 56|20000|\n",
            "+-------------+----------+-----+------+---+-----+\n",
            "\n"
          ]
        }
      ],
      "source": [
        "df.orderBy(col('department'), col('state')).show()"
      ]
    },
    {
      "cell_type": "code",
      "execution_count": 56,
      "id": "725339a5-96d8-4a9f-8e98-a7640d3c4181",
      "metadata": {
        "tags": [],
        "colab": {
          "base_uri": "https://localhost:8080/"
        },
        "id": "725339a5-96d8-4a9f-8e98-a7640d3c4181",
        "outputId": "c4893ecd-cbd1-4bed-a608-3ab2060f0427"
      },
      "outputs": [
        {
          "output_type": "stream",
          "name": "stdout",
          "text": [
            "+-------------+----------+-----+------+---+-----+\n",
            "|employee_name|department|state|salary|age|bonus|\n",
            "+-------------+----------+-----+------+---+-----+\n",
            "|        Scott|   Finance|   NY| 83000| 36|19000|\n",
            "|          Jen|   Finance|   NY| 79000| 53|15000|\n",
            "|        Maria|   Finance|   CA| 90000| 24|23000|\n",
            "|        Raman|   Finance|   CA| 99000| 40|24000|\n",
            "|        Kumar| Marketing|   NY| 91000| 50|21000|\n",
            "|         Jeff| Marketing|   CA| 80000| 25|18000|\n",
            "|        James|     Sales|   NY| 90000| 34|10000|\n",
            "|      Michael|     Sales|   NY| 86000| 56|20000|\n",
            "|       Robert|     Sales|   CA| 81000| 30|23000|\n",
            "+-------------+----------+-----+------+---+-----+\n",
            "\n"
          ]
        }
      ],
      "source": [
        "df.orderBy(col('department'), col('state').desc()).show()"
      ]
    },
    {
      "cell_type": "code",
      "execution_count": 57,
      "id": "4631fcd0-3252-4f28-a15b-dca705049436",
      "metadata": {
        "tags": [],
        "colab": {
          "base_uri": "https://localhost:8080/"
        },
        "id": "4631fcd0-3252-4f28-a15b-dca705049436",
        "outputId": "e2f455fd-d24c-42aa-d855-88f7681c2404"
      },
      "outputs": [
        {
          "output_type": "stream",
          "name": "stdout",
          "text": [
            "+------+--------+---------+-------+------+------+\n",
            "|emp_id|    name|branch_id|dept_id|gender|salary|\n",
            "+------+--------+---------+-------+------+------+\n",
            "|     1|   Smith|     2018|     10|     M|  3000|\n",
            "|     2|    Rose|     2010|     20|     M|  4000|\n",
            "|     3|Williams|     2010|     10|     M|  1000|\n",
            "|     4|   Jones|     2005|     10|     F|  2000|\n",
            "|     5|   Brown|     2010|     30|      |    -1|\n",
            "|     6|   Brown|     2010|     50|      |    -1|\n",
            "+------+--------+---------+-------+------+------+\n",
            "\n",
            "+---------+-------+---------+\n",
            "|dept_name|dept_id|branch_id|\n",
            "+---------+-------+---------+\n",
            "|  Finance|     10|     2018|\n",
            "|Marketing|     20|     2010|\n",
            "|Marketing|     20|     2018|\n",
            "|    Sales|     30|     2005|\n",
            "|    Sales|     30|     2010|\n",
            "|       IT|     50|     2010|\n",
            "+---------+-------+---------+\n",
            "\n"
          ]
        }
      ],
      "source": [
        "#join\n",
        "empData = [(1,\"Smith\",\"2018\",10,\"M\",3000),\n",
        "(2,\"Rose\",\"2010\",20,\"M\",4000),\n",
        "(3,\"Williams\",\"2010\",10,\"M\",1000),\n",
        "(4,\"Jones\",\"2005\",10,\"F\",2000),\n",
        "(5,\"Brown\",\"2010\",30,\"\",-1),\n",
        "(6,\"Brown\",\"2010\",50,\"\",-1)]\n",
        "  \n",
        "empColumns = [\"emp_id\",\"name\",\"branch_id\",\"dept_id\",\"gender\",\"salary\"]\n",
        "empDF = spark.createDataFrame(empData,empColumns)\n",
        "empDF.show()\n",
        "\n",
        "deptData = [(\"Finance\",10,\"2018\"),\n",
        "(\"Marketing\",20,\"2010\"),\n",
        "(\"Marketing\",20,\"2018\"),\n",
        "(\"Sales\",30,\"2005\"),\n",
        "(\"Sales\",30,\"2010\"),\n",
        "(\"IT\",50,\"2010\")]\n",
        "\n",
        "deptColumns = [\"dept_name\",\"dept_id\",\"branch_id\"]\n",
        "deptDF=spark.createDataFrame(deptData,deptColumns)  \n",
        "deptDF.show()"
      ]
    },
    {
      "cell_type": "code",
      "execution_count": 58,
      "id": "3151b6e9-b4f0-483b-9ea8-c982c57f9a50",
      "metadata": {
        "tags": [],
        "colab": {
          "base_uri": "https://localhost:8080/"
        },
        "id": "3151b6e9-b4f0-483b-9ea8-c982c57f9a50",
        "outputId": "714874f3-5aba-4dbf-8f8f-ece9a8e78011"
      },
      "outputs": [
        {
          "output_type": "stream",
          "name": "stdout",
          "text": [
            "+------+-----+---------+-------+------+------+---------+-------+---------+\n",
            "|emp_id| name|branch_id|dept_id|gender|salary|dept_name|dept_id|branch_id|\n",
            "+------+-----+---------+-------+------+------+---------+-------+---------+\n",
            "|     1|Smith|     2018|     10|     M|  3000|  Finance|     10|     2018|\n",
            "|     2| Rose|     2010|     20|     M|  4000|Marketing|     20|     2010|\n",
            "|     5|Brown|     2010|     30|      |    -1|    Sales|     30|     2010|\n",
            "|     6|Brown|     2010|     50|      |    -1|       IT|     50|     2010|\n",
            "+------+-----+---------+-------+------+------+---------+-------+---------+\n",
            "\n"
          ]
        }
      ],
      "source": [
        "empDF.join(deptDF, (empDF[\"dept_id\"] == deptDF[\"dept_id\"]) &\n",
        "   ( empDF[\"branch_id\"] == deptDF[\"branch_id\"]), \"inner\").show()"
      ]
    },
    {
      "cell_type": "code",
      "execution_count": 59,
      "id": "d5f5f9ff-9ea1-4b75-af96-5261402de155",
      "metadata": {
        "tags": [],
        "colab": {
          "base_uri": "https://localhost:8080/"
        },
        "id": "d5f5f9ff-9ea1-4b75-af96-5261402de155",
        "outputId": "1e201cca-de28-4cfe-b772-29fc88174814"
      },
      "outputs": [
        {
          "output_type": "stream",
          "name": "stdout",
          "text": [
            "+------+--------+---------+-------+------+------+\n",
            "|emp_id|    name|branch_id|dept_id|gender|salary|\n",
            "+------+--------+---------+-------+------+------+\n",
            "|     1|   Smith|     2018|     10|     M|  3000|\n",
            "|     2|    Rose|     2010|     20|     M|  4000|\n",
            "|     3|Williams|     2010|     10|     M|  1000|\n",
            "|     4|   Jones|     2005|     10|     F|  2000|\n",
            "|     5|   Brown|     2010|     30|      |    -1|\n",
            "|     6|   Brown|     2010|     50|      |    -1|\n",
            "+------+--------+---------+-------+------+------+\n",
            "\n",
            "+---------+-------+---------+\n",
            "|dept_name|dept_id|branch_id|\n",
            "+---------+-------+---------+\n",
            "|  Finance|     10|     2018|\n",
            "|Marketing|     20|     2010|\n",
            "|Marketing|     20|     2018|\n",
            "|    Sales|     30|     2005|\n",
            "|    Sales|     30|     2010|\n",
            "|       IT|     50|     2010|\n",
            "+---------+-------+---------+\n",
            "\n"
          ]
        }
      ],
      "source": [
        "#sql\n",
        "empData = [(1,\"Smith\",\"2018\",10,\"M\",3000),\n",
        "(2,\"Rose\",\"2010\",20,\"M\",4000),\n",
        "(3,\"Williams\",\"2010\",10,\"M\",1000),\n",
        "(4,\"Jones\",\"2005\",10,\"F\",2000),\n",
        "(5,\"Brown\",\"2010\",30,\"\",-1),\n",
        "(6,\"Brown\",\"2010\",50,\"\",-1)]\n",
        "  \n",
        "empColumns = [\"emp_id\",\"name\",\"branch_id\",\"dept_id\",\"gender\",\"salary\"]\n",
        "empDF = spark.createDataFrame(empData,empColumns)\n",
        "empDF.show()\n",
        "\n",
        "deptData = [(\"Finance\",10,\"2018\"),\n",
        "(\"Marketing\",20,\"2010\"),\n",
        "(\"Marketing\",20,\"2018\"),\n",
        "(\"Sales\",30,\"2005\"),\n",
        "(\"Sales\",30,\"2010\"),\n",
        "(\"IT\",50,\"2010\")]\n",
        "\n",
        "deptColumns = [\"dept_name\",\"dept_id\",\"branch_id\"]\n",
        "deptDF=spark.createDataFrame(deptData,deptColumns)  \n",
        "deptDF.show()"
      ]
    },
    {
      "cell_type": "code",
      "execution_count": 60,
      "id": "74690298-664d-46d5-9731-6876faaebb13",
      "metadata": {
        "tags": [],
        "id": "74690298-664d-46d5-9731-6876faaebb13"
      },
      "outputs": [],
      "source": [
        "empDF.createOrReplaceTempView(\"EMP\")\n",
        "deptDF.createOrReplaceTempView(\"DEPT\")"
      ]
    },
    {
      "cell_type": "code",
      "execution_count": 61,
      "id": "0dfda9b1-81a8-4978-a6dc-f47ed2b219e8",
      "metadata": {
        "tags": [],
        "colab": {
          "base_uri": "https://localhost:8080/"
        },
        "id": "0dfda9b1-81a8-4978-a6dc-f47ed2b219e8",
        "outputId": "aab26aaa-74eb-4352-a569-e8b85312146a"
      },
      "outputs": [
        {
          "output_type": "stream",
          "name": "stdout",
          "text": [
            "+------+--------+------+-----+\n",
            "|emp_id|    name|salary|  tax|\n",
            "+------+--------+------+-----+\n",
            "|     1|   Smith|  3000|300.0|\n",
            "|     2|    Rose|  4000|400.0|\n",
            "|     3|Williams|  1000|100.0|\n",
            "|     4|   Jones|  2000|200.0|\n",
            "|     5|   Brown|    -1| -0.1|\n",
            "|     6|   Brown|    -1| -0.1|\n",
            "+------+--------+------+-----+\n",
            "\n"
          ]
        }
      ],
      "source": [
        "#select\n",
        "spark.sql(\"SELECT emp_id, name, salary, salary*0.1 as tax FROM EMP\").show()"
      ]
    },
    {
      "cell_type": "code",
      "execution_count": 62,
      "id": "14a14025-66a1-47ff-a83c-4d9498d58d43",
      "metadata": {
        "tags": [],
        "colab": {
          "base_uri": "https://localhost:8080/"
        },
        "id": "14a14025-66a1-47ff-a83c-4d9498d58d43",
        "outputId": "8fa703b7-39c0-41a7-fe17-383d2123298e"
      },
      "outputs": [
        {
          "output_type": "stream",
          "name": "stdout",
          "text": [
            "+------+--------+------+-----+\n",
            "|emp_id|    name|salary|  tax|\n",
            "+------+--------+------+-----+\n",
            "|     1|   Smith|  3000|300.0|\n",
            "|     2|    Rose|  4000|400.0|\n",
            "|     3|Williams|  1000|100.0|\n",
            "|     4|   Jones|  2000|200.0|\n",
            "|     5|   Brown|    -1|  0.0|\n",
            "|     6|   Brown|    -1|  0.0|\n",
            "+------+--------+------+-----+\n",
            "\n"
          ]
        }
      ],
      "source": [
        "\n",
        "spark.sql(\"SELECT emp_id, name, salary, CASE WHEN salary>1 THEN salary*0.1 ELSE 0 END as tax FROM EMP\").show()"
      ]
    },
    {
      "cell_type": "code",
      "execution_count": 63,
      "id": "9208a365-1fe0-4527-8342-a8e2f0cf7c1b",
      "metadata": {
        "tags": [],
        "colab": {
          "base_uri": "https://localhost:8080/"
        },
        "id": "9208a365-1fe0-4527-8342-a8e2f0cf7c1b",
        "outputId": "a309ca5f-dd4b-4ec2-d871-46ade46a276c"
      },
      "outputs": [
        {
          "output_type": "stream",
          "name": "stdout",
          "text": [
            "+------+--------+---------+-------+------+------+\n",
            "|emp_id|    name|branch_id|dept_id|gender|salary|\n",
            "+------+--------+---------+-------+------+------+\n",
            "|     2|    Rose|     2010|     20|     M|  4000|\n",
            "|     1|   Smith|     2018|     10|     M|  3000|\n",
            "|     3|Williams|     2010|     10|     M|  1000|\n",
            "+------+--------+---------+-------+------+------+\n",
            "\n"
          ]
        }
      ],
      "source": [
        "\n",
        "spark.sql(\"SELECT * FROM EMP WHERE gender = 'M' ORDER BY salary DESC\").show()"
      ]
    },
    {
      "cell_type": "code",
      "execution_count": 64,
      "id": "34e6916c-c695-48dc-9dec-3f24e074a3cc",
      "metadata": {
        "tags": [],
        "colab": {
          "base_uri": "https://localhost:8080/"
        },
        "id": "34e6916c-c695-48dc-9dec-3f24e074a3cc",
        "outputId": "4e1c24d1-59bc-44e9-ce8a-1f1ee44c7662"
      },
      "outputs": [
        {
          "output_type": "stream",
          "name": "stdout",
          "text": [
            "+-------+-----+----------+\n",
            "|dept_id|count|max_salary|\n",
            "+-------+-----+----------+\n",
            "|     50|    1|        -1|\n",
            "|     10|    3|      3000|\n",
            "|     30|    1|        -1|\n",
            "|     20|    1|      4000|\n",
            "+-------+-----+----------+\n",
            "\n"
          ]
        }
      ],
      "source": [
        "#group by\n",
        "spark.sql(\"SELECT dept_id, count(*) as count, max(salary) as max_salary FROM EMP GROUP BY dept_id\").show()"
      ]
    },
    {
      "cell_type": "code",
      "execution_count": 65,
      "id": "c1c7a82b-e8d2-4240-a5ce-fcb470db86b8",
      "metadata": {
        "tags": [],
        "colab": {
          "base_uri": "https://localhost:8080/"
        },
        "id": "c1c7a82b-e8d2-4240-a5ce-fcb470db86b8",
        "outputId": "60958703-b8cd-4273-aae7-14435f3ed6fb"
      },
      "outputs": [
        {
          "output_type": "stream",
          "name": "stdout",
          "text": [
            "+------+-----+---------+-------+------+------+---------+-------+---------+\n",
            "|emp_id| name|branch_id|dept_id|gender|salary|dept_name|dept_id|branch_id|\n",
            "+------+-----+---------+-------+------+------+---------+-------+---------+\n",
            "|     1|Smith|     2018|     10|     M|  3000|  Finance|     10|     2018|\n",
            "|     2| Rose|     2010|     20|     M|  4000|Marketing|     20|     2010|\n",
            "|     5|Brown|     2010|     30|      |    -1|    Sales|     30|     2010|\n",
            "|     6|Brown|     2010|     50|      |    -1|       IT|     50|     2010|\n",
            "+------+-----+---------+-------+------+------+---------+-------+---------+\n",
            "\n"
          ]
        }
      ],
      "source": [
        "#join\n",
        "spark.sql(\"SELECT * FROM EMP e, DEPT d where e.dept_id == d.dept_id and e.branch_id == d.branch_id\").show()"
      ]
    }
  ],
  "metadata": {
    "kernelspec": {
      "display_name": "Python 3 (ipykernel)",
      "language": "python",
      "name": "python3"
    },
    "language_info": {
      "codemirror_mode": {
        "name": "ipython",
        "version": 3
      },
      "file_extension": ".py",
      "mimetype": "text/x-python",
      "name": "python",
      "nbconvert_exporter": "python",
      "pygments_lexer": "ipython3",
      "version": "3.10.6"
    },
    "colab": {
      "provenance": [],
      "gpuType": "T4"
    },
    "accelerator": "GPU",
    "gpuClass": "standard"
  },
  "nbformat": 4,
  "nbformat_minor": 5
}