{
 "cells": [
  {
   "cell_type": "code",
   "execution_count": null,
   "id": "63d5cd10-b482-4a89-8e0c-e1bff3a536da",
   "metadata": {
    "tags": []
   },
   "outputs": [],
   "source": [
    "import numpy as np  \n",
    "import matplotlib.pyplot as plt  \n",
    "import pandas as pd"
   ]
  },
  {
   "cell_type": "code",
   "execution_count": null,
   "id": "a24cee80-4e9d-4ccb-96fa-f439f561f149",
   "metadata": {
    "tags": []
   },
   "outputs": [],
   "source": [
    "# Read Dataset\n",
    "data_set = pd.read_csv('./data/user_data.csv')\n",
    "data_set"
   ]
  },
  {
   "cell_type": "code",
   "execution_count": null,
   "id": "a9fad6c3-a3d8-4857-88f4-44547370f97d",
   "metadata": {
    "tags": []
   },
   "outputs": [],
   "source": [
    "#Extracting Independent/dependent Variable\n",
    "x = data_set.iloc[:, [2,3]].values  \n",
    "y = data_set.iloc[:, 4].values "
   ]
  },
  {
   "cell_type": "code",
   "execution_count": null,
   "id": "588bcadd-bd0e-4583-a376-7a52d6c3c80b",
   "metadata": {
    "tags": []
   },
   "outputs": [],
   "source": [
    "#Splitting Dataset to Training and Test\n",
    "from sklearn.model_selection import train_test_split  \n",
    "x_train, x_test, y_train, y_test= train_test_split(x, y, test_size= 0.25, random_state=0)"
   ]
  },
  {
   "cell_type": "code",
   "execution_count": null,
   "id": "89df1bee-ddae-45f7-b98a-041d5b118d75",
   "metadata": {
    "tags": []
   },
   "outputs": [],
   "source": [
    "#Fitting K-NN classifier to the training set  \n",
    "from sklearn.neighbors import KNeighborsClassifier  \n",
    "classifier = KNeighborsClassifier(n_neighbors=5, metric='minkowski', p=2 )  \n",
    "classifier.fit(x_train, y_train) "
   ]
  },
  {
   "cell_type": "code",
   "execution_count": null,
   "id": "121c846a-1eff-483a-8b28-304e3edaf3a0",
   "metadata": {
    "tags": []
   },
   "outputs": [],
   "source": [
    "#Predicting the test set result  \n",
    "y_pred = classifier.predict(x_test) "
   ]
  },
  {
   "cell_type": "code",
   "execution_count": null,
   "id": "9675ee6d-68ae-4485-a6a6-0263a69b5fdc",
   "metadata": {
    "tags": []
   },
   "outputs": [],
   "source": [
    "#Creating the Confusion matrix  \n",
    "from sklearn.metrics import confusion_matrix  \n",
    "cm = confusion_matrix(y_test, y_pred)  \n",
    "cm"
   ]
  },
  {
   "cell_type": "code",
   "execution_count": null,
   "id": "24cc6ef4-6f11-4079-b5db-7ebcd8da518b",
   "metadata": {
    "tags": []
   },
   "outputs": [],
   "source": [
    "from sklearn.metrics import accuracy_score  \n",
    "accuracy_score(y_test, y_pred)"
   ]
  },
  {
   "cell_type": "code",
   "execution_count": null,
   "id": "52fc48e0-8029-4281-8245-4116b7dc42be",
   "metadata": {
    "tags": []
   },
   "outputs": [],
   "source": [
    "from matplotlib.colors import ListedColormap  \n",
    "x_set, y_set = x_train, y_train\n",
    "x1v = np.arange(start = x_set[:, 0].min() - 1, stop = x_set[:, 0].max() + 1, step = 2)\n",
    "x2v = np.arange(start = x_set[:, 1].min() - 1, stop = x_set[:, 1].max() + 1, step = 10000)\n",
    "x1, x2 = np.meshgrid(x1v, x2v)\n",
    "#plt.plot(x1, x2, marker='o', color='k', linestyle='none')\n",
    "x = np.array([x1.ravel(), x2.ravel()]).T\n",
    "y = classifier.predict(x).reshape(x1.shape)\n",
    "plt.contourf(x1, x2, y, alpha = 0.75, cmap = ListedColormap(('purple','green' )))  \n",
    "plt.xlim(x1.min(), x1.max())  \n",
    "plt.ylim(x2.min(), x2.max()) \n",
    "for i, j in enumerate(np.unique(y_set)):  \n",
    "    plt.scatter(x_set[y_set == j, 0], x_set[y_set == j, 1], c = ListedColormap(('purple', 'green'))(i), label = j)\n",
    "plt.title('Decision Tree Algorithm (Training set)')  \n",
    "plt.xlabel('Age')  \n",
    "plt.ylabel('Estimated Salary')  \n",
    "plt.legend()  \n",
    "plt.show()"
   ]
  },
  {
   "cell_type": "code",
   "execution_count": null,
   "id": "0675983e-d5f3-4677-a696-2f59f78bd3ba",
   "metadata": {},
   "outputs": [],
   "source": []
  }
 ],
 "metadata": {
  "kernelspec": {
   "display_name": "Python 3 (ipykernel)",
   "language": "python",
   "name": "python3"
  },
  "language_info": {
   "codemirror_mode": {
    "name": "ipython",
    "version": 3
   },
   "file_extension": ".py",
   "mimetype": "text/x-python",
   "name": "python",
   "nbconvert_exporter": "python",
   "pygments_lexer": "ipython3",
   "version": "3.10.5"
  }
 },
 "nbformat": 4,
 "nbformat_minor": 5
}
