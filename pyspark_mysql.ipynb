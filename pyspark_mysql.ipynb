{
 "cells": [
  {
   "cell_type": "code",
   "execution_count": null,
   "id": "a16a3b55-6a31-4c0e-8d70-0c172f2675e7",
   "metadata": {
    "tags": []
   },
   "outputs": [],
   "source": [
    "import findspark\n",
    "findspark.init()\n",
    "\n",
    "from pyspark import SparkContext\n",
    "sc = SparkContext(\"local\", \"first app\")\n",
    "\n",
    "from pyspark.sql import SparkSession\n",
    "spark = SparkSession.builder.appName(\"PySpark Create RDD example\").config(\"spark.some.config.option\", \"some-value\").getOrCreate()"
   ]
  },
  {
   "cell_type": "code",
   "execution_count": null,
   "id": "4a8a7208-9abe-4066-b635-21fb45ff1339",
   "metadata": {
    "tags": []
   },
   "outputs": [],
   "source": [
    "import mysql.connector"
   ]
  },
  {
   "cell_type": "code",
   "execution_count": null,
   "id": "461ef6e8-af4b-4980-8beb-7fb47c1b877f",
   "metadata": {
    "tags": []
   },
   "outputs": [],
   "source": [
    "db = mysql.connector.connect(host=\"localhost\", user=\"root\", password=\"12345678\", database=\"test\")\n",
    "print(db)"
   ]
  },
  {
   "cell_type": "code",
   "execution_count": null,
   "id": "e8c74f07-d531-45e7-8a83-a765d103eb61",
   "metadata": {
    "tags": []
   },
   "outputs": [],
   "source": [
    "cursor = db.cursor()\n",
    "print(cursor)"
   ]
  },
  {
   "cell_type": "code",
   "execution_count": null,
   "id": "1f77abcc-2f50-4a41-87bf-181e46435694",
   "metadata": {
    "tags": []
   },
   "outputs": [],
   "source": [
    "df = spark.read.csv(\"file:/home/msobh/pyspark/data/tourism-recipts.csv\", inferSchema=True, header=True)\n",
    "df.show()"
   ]
  },
  {
   "cell_type": "code",
   "execution_count": null,
   "id": "055b0610-174c-4a64-83c4-ed166e7bab9c",
   "metadata": {
    "tags": []
   },
   "outputs": [],
   "source": [
    "df.createOrReplaceTempView(\"tourism_yearly\")"
   ]
  },
  {
   "cell_type": "code",
   "execution_count": null,
   "id": "3b5159e5-7e12-44f3-aed9-e3a9fa7b0e9c",
   "metadata": {
    "tags": []
   },
   "outputs": [],
   "source": [
    "final_df = spark.sql(\"SELECT code as country_code, name as country_name, sum(value)/count(*) as yearly_income FROM tourism_yearly GROUP BY name, code\")\n",
    "final_df.show()"
   ]
  },
  {
   "cell_type": "code",
   "execution_count": null,
   "id": "ca0bdafd-6c14-4de2-8933-8d1037b9fdc8",
   "metadata": {
    "tags": []
   },
   "outputs": [],
   "source": [
    "values = final_df.collect()"
   ]
  },
  {
   "cell_type": "code",
   "execution_count": null,
   "id": "1b279258-04b3-4f8e-9e07-13e8a2c0734f",
   "metadata": {
    "tags": []
   },
   "outputs": [],
   "source": [
    "cursor.execute(\"DROP TABLE tourism\")"
   ]
  },
  {
   "cell_type": "code",
   "execution_count": null,
   "id": "1c95513e-36e6-4be8-9f56-2045640165a2",
   "metadata": {
    "tags": []
   },
   "outputs": [],
   "source": [
    "cursor.execute(\"CREATE TABLE tourism (id int(11) NOT NULL AUTO_INCREMENT, country_code varchar(32) DEFAULT NULL, country_name varchar(255) DEFAULT NULL, yearly_income bigint(11) DEFAULT NULL, PRIMARY KEY (id))\")"
   ]
  },
  {
   "cell_type": "code",
   "execution_count": null,
   "id": "430eb617-29a4-4aef-9819-191389452fdb",
   "metadata": {
    "tags": []
   },
   "outputs": [],
   "source": [
    "sql = \"INSERT INTO tourism (country_code, country_name, yearly_income) VALUES (%s, %s, %s)\"\n",
    "cursor.executemany(sql, values)"
   ]
  },
  {
   "cell_type": "code",
   "execution_count": null,
   "id": "ae68142c-3a36-4012-8725-572083a14b2c",
   "metadata": {},
   "outputs": [],
   "source": [
    "cursor.execute(\"SELECT * FROM tourism\")\n",
    "rows = cursor.fetchall()\n",
    "\n",
    "for row in rows:\n",
    "  print(row)"
   ]
  }
 ],
 "metadata": {
  "kernelspec": {
   "display_name": "Python 3 (ipykernel)",
   "language": "python",
   "name": "python3"
  },
  "language_info": {
   "codemirror_mode": {
    "name": "ipython",
    "version": 3
   },
   "file_extension": ".py",
   "mimetype": "text/x-python",
   "name": "python",
   "nbconvert_exporter": "python",
   "pygments_lexer": "ipython3",
   "version": "3.10.6"
  }
 },
 "nbformat": 4,
 "nbformat_minor": 5
}
