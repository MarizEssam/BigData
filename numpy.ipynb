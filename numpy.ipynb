{
 "cells": [
  {
   "cell_type": "code",
   "execution_count": 2,
   "id": "b9ec3f04-90d0-445f-9807-3db3e05c8aaf",
   "metadata": {
    "tags": []
   },
   "outputs": [],
   "source": [
    "import numpy as np"
   ]
  },
  {
   "cell_type": "markdown",
   "id": "8e95c8ec-c9d9-4b29-941a-369d04399139",
   "metadata": {},
   "source": [
    "# Arrays"
   ]
  },
  {
   "cell_type": "code",
   "execution_count": 3,
   "id": "ab0488c5-5a95-4289-911c-15882e73712a",
   "metadata": {
    "tags": []
   },
   "outputs": [
    {
     "name": "stdout",
     "output_type": "stream",
     "text": [
      "a = 45\n",
      "b = [1 2 3]\n",
      "c = [1 2 3]\n",
      "d = [[1 2 3]\n",
      " [3 4 5]\n",
      " [2 3 4]]\n",
      "e = [[[[[1 2 3]]]]]\n"
     ]
    }
   ],
   "source": [
    "a = np.array(45); print('a =', a)\n",
    "b = np.array([1, 2, 3]); print('b =', b)\n",
    "c = np.array((1, 2, 3)); print('c =', c)\n",
    "d = np.array([[1, 2, 3], [3, 4, 5],[2, 3, 4]]); print('d =', d)\n",
    "e = np.array((1, 2, 3), ndmin=5); print('e =', e)"
   ]
  },
  {
   "cell_type": "code",
   "execution_count": 4,
   "id": "a0934f7d-2823-4d50-8be1-87d961352c93",
   "metadata": {
    "tags": []
   },
   "outputs": [
    {
     "name": "stdout",
     "output_type": "stream",
     "text": [
      "0\n",
      "1\n",
      "2\n",
      "5\n"
     ]
    }
   ],
   "source": [
    "print(a.ndim)\n",
    "print(b.ndim)\n",
    "print(d.ndim)\n",
    "print(e.ndim)"
   ]
  },
  {
   "cell_type": "markdown",
   "id": "2a849a5f-5b4c-488e-97b0-3fbb733a7c88",
   "metadata": {},
   "source": [
    "# Access Arrays"
   ]
  },
  {
   "cell_type": "code",
   "execution_count": 5,
   "id": "3f60a517-7978-4761-b5c7-0d9e5e6dbbd0",
   "metadata": {
    "tags": []
   },
   "outputs": [
    {
     "name": "stdout",
     "output_type": "stream",
     "text": [
      "1 [1 2 3]\n",
      "1 ,  3\n",
      "1 [1 2 3]\n",
      "1 ,  2 ,  3\n",
      "2 [[1 2 3]\n",
      " [3 4 5]\n",
      " [2 3 4]]\n",
      "1 ,  5\n",
      "5 [[[[[1 2 3]]]]]\n",
      "3\n"
     ]
    }
   ],
   "source": [
    "print(b.ndim, b)\n",
    "print(b[0], ', ', b[2])\n",
    "print(c.ndim, c)\n",
    "print(c[0], ', ', c[1], ', ', c[-1])\n",
    "print(d.ndim, d)\n",
    "print(d[0,0], ', ', d[1,2])\n",
    "print(e.ndim, e)\n",
    "print(e[0,0,0,0,2])"
   ]
  },
  {
   "cell_type": "code",
   "execution_count": 6,
   "id": "6a7a02b1-abff-466b-bab7-9d9b850d9135",
   "metadata": {
    "tags": []
   },
   "outputs": [
    {
     "data": {
      "text/plain": [
       "array([ 1,  2,  3,  4,  5,  6,  7,  8,  9, 10])"
      ]
     },
     "execution_count": 6,
     "metadata": {},
     "output_type": "execute_result"
    }
   ],
   "source": [
    "x = np.array([1,2,3,4,5,6,7,8,9,10])\n",
    "x"
   ]
  },
  {
   "cell_type": "code",
   "execution_count": 7,
   "id": "fd207f37-d39b-403a-8b41-2f7d1cc3a1d4",
   "metadata": {
    "tags": []
   },
   "outputs": [
    {
     "name": "stdout",
     "output_type": "stream",
     "text": [
      "[2 3 4 5]\n",
      "[ 5  6  7  8  9 10]\n",
      "[1 2 3 4]\n",
      "[8 9]\n",
      "[2 4]\n",
      "[1 3 5 7 9]\n"
     ]
    }
   ],
   "source": [
    "print(x[1:5])\n",
    "print(x[4:])\n",
    "print(x[:4])\n",
    "print(x[-3:-1])\n",
    "print(x[1:5:2])\n",
    "print(x[::2])"
   ]
  },
  {
   "cell_type": "code",
   "execution_count": 8,
   "id": "195be0f8-2621-4ba6-8e21-5597fdedb612",
   "metadata": {
    "tags": []
   },
   "outputs": [
    {
     "data": {
      "text/plain": [
       "array([[ 1,  2,  3,  5],\n",
       "       [ 3,  4,  5,  9],\n",
       "       [ 2,  3,  4, 12],\n",
       "       [ 4,  2,  3,  1]])"
      ]
     },
     "execution_count": 8,
     "metadata": {},
     "output_type": "execute_result"
    }
   ],
   "source": [
    "x = np.array([[1, 2, 3, 5], [3, 4, 5, 9],[2, 3, 4, 12], [4, 2, 3, 1]])\n",
    "x"
   ]
  },
  {
   "cell_type": "code",
   "execution_count": 9,
   "id": "283d4244-d9c4-48c3-90f9-1c6ae715da91",
   "metadata": {
    "tags": []
   },
   "outputs": [
    {
     "name": "stdout",
     "output_type": "stream",
     "text": [
      "[4 5 9]\n",
      "[[3 5]\n",
      " [5 9]]\n",
      "[[4 5]\n",
      " [3 4]]\n"
     ]
    }
   ],
   "source": [
    "print(x[1, 1:4])\n",
    "print(x[0:2, 2:4])\n",
    "print(x[1:3, 1:3])"
   ]
  },
  {
   "cell_type": "code",
   "execution_count": 10,
   "id": "8a8fe9b1-1e7b-41f3-b1b3-7ae49b71167f",
   "metadata": {
    "tags": []
   },
   "outputs": [
    {
     "name": "stdout",
     "output_type": "stream",
     "text": [
      "float64\n",
      "[1.2 2.4 3.5]\n"
     ]
    }
   ],
   "source": [
    "x = np.array([1.2, 2.4, 3.5], 'f8')\n",
    "print(x.dtype); print(x)"
   ]
  },
  {
   "cell_type": "code",
   "execution_count": 11,
   "id": "69ec24d3-781f-46ef-823e-7f00299d3512",
   "metadata": {
    "tags": []
   },
   "outputs": [
    {
     "name": "stdout",
     "output_type": "stream",
     "text": [
      "int32\n",
      "[1 2 3]\n"
     ]
    }
   ],
   "source": [
    "y = x.astype('i4')\n",
    "print(y.dtype); print(y)\n"
   ]
  },
  {
   "cell_type": "code",
   "execution_count": 12,
   "id": "ea656338-688e-4dbc-9128-68d1c7ca7f2f",
   "metadata": {
    "tags": []
   },
   "outputs": [
    {
     "name": "stdout",
     "output_type": "stream",
     "text": [
      "int32\n",
      "[1 2 3]\n"
     ]
    }
   ],
   "source": [
    "x = np.array([1.2, 2.4, 3.5], 'i4')\n",
    "print(x.dtype); print(x)"
   ]
  },
  {
   "cell_type": "code",
   "execution_count": 13,
   "id": "3eddabd8-a938-46cf-8125-37dc5c98371a",
   "metadata": {
    "tags": []
   },
   "outputs": [
    {
     "name": "stdout",
     "output_type": "stream",
     "text": [
      "int8\n",
      "[1 2 3]\n"
     ]
    }
   ],
   "source": [
    "x = np.array([1.2, 2.4, 3.5], 'i1')\n",
    "print(x.dtype); print(x)"
   ]
  },
  {
   "cell_type": "code",
   "execution_count": 14,
   "id": "991e4fe1-842e-4b3b-9333-dceb80eeaac9",
   "metadata": {
    "tags": []
   },
   "outputs": [
    {
     "name": "stdout",
     "output_type": "stream",
     "text": [
      "float64\n",
      "[1.2 2.4 3.5]\n"
     ]
    }
   ],
   "source": [
    "x = np.array([\"1.2\", \"2.4\", \"3.5\"], 'f8')\n",
    "print(x.dtype); print(x)"
   ]
  },
  {
   "cell_type": "markdown",
   "id": "67b839ba-5dab-4a01-90f5-54aa329754c6",
   "metadata": {},
   "source": [
    "# Copy and View"
   ]
  },
  {
   "cell_type": "code",
   "execution_count": 15,
   "id": "151174d1-95ba-4c00-825d-29206395534c",
   "metadata": {
    "tags": []
   },
   "outputs": [
    {
     "name": "stdout",
     "output_type": "stream",
     "text": [
      "x =  [ 1 12  3  4  5  6  7  8  9 10]\n",
      "y =  [ 1  2  3  4  5  6  7  8  9 10]\n"
     ]
    }
   ],
   "source": [
    "x = np.array([1,2,3,4,5,6,7,8,9,10])\n",
    "y = x.copy()\n",
    "x[1] = 12\n",
    "print('x = ', x)\n",
    "print('y = ', y)"
   ]
  },
  {
   "cell_type": "code",
   "execution_count": 16,
   "id": "881b6afe-a802-47a0-ad8c-416d20ef96fa",
   "metadata": {
    "tags": []
   },
   "outputs": [
    {
     "name": "stdout",
     "output_type": "stream",
     "text": [
      "x =  [ 1 12  3  4  5  6  7  8  9 10]\n",
      "y =  [ 1 12  3  4  5  6  7  8  9 10]\n"
     ]
    }
   ],
   "source": [
    "y = x.view()\n",
    "x[1] = 12\n",
    "print('x = ', x)\n",
    "print('y = ', y)"
   ]
  },
  {
   "cell_type": "code",
   "execution_count": 17,
   "id": "3bbbd545-ca32-409e-aea4-caa318490392",
   "metadata": {
    "tags": []
   },
   "outputs": [
    {
     "name": "stdout",
     "output_type": "stream",
     "text": [
      "x =  [ 1 15  3  4  5  6  7  8  9 10]\n",
      "y =  [ 1 15  3  4  5  6  7  8  9 10]\n"
     ]
    }
   ],
   "source": [
    "y[1] = 15\n",
    "print('x = ', x)\n",
    "print('y = ', y)"
   ]
  },
  {
   "cell_type": "code",
   "execution_count": 18,
   "id": "00e63a43-73ad-4243-ae5c-3fad441fb4fd",
   "metadata": {
    "tags": []
   },
   "outputs": [
    {
     "name": "stdout",
     "output_type": "stream",
     "text": [
      "None\n",
      "[ 1 15  3  4  5  6  7  8  9 10]\n"
     ]
    }
   ],
   "source": [
    "print(x.base)\n",
    "print(y.base)"
   ]
  },
  {
   "cell_type": "markdown",
   "id": "e9d67bc6-e5c1-4edb-b8bb-9c4b17bf806d",
   "metadata": {},
   "source": [
    "# Reshape"
   ]
  },
  {
   "cell_type": "code",
   "execution_count": 19,
   "id": "a4b09421-7cf6-4576-9f18-f2d36385444a",
   "metadata": {
    "tags": []
   },
   "outputs": [
    {
     "data": {
      "text/plain": [
       "array([[ 1,  2,  3,  5],\n",
       "       [ 3,  4,  5,  9],\n",
       "       [ 2,  3,  4, 12],\n",
       "       [ 4,  2,  3,  1]])"
      ]
     },
     "execution_count": 19,
     "metadata": {},
     "output_type": "execute_result"
    }
   ],
   "source": [
    "x = np.array([[1, 2, 3, 5], [3, 4, 5, 9],[2, 3, 4, 12], [4, 2, 3, 1]])\n",
    "x"
   ]
  },
  {
   "cell_type": "code",
   "execution_count": 20,
   "id": "c4d0f407-df63-495d-a34e-ae9818803467",
   "metadata": {
    "tags": []
   },
   "outputs": [
    {
     "name": "stdout",
     "output_type": "stream",
     "text": [
      "(4, 4)\n"
     ]
    }
   ],
   "source": [
    "print(x.shape)"
   ]
  },
  {
   "cell_type": "code",
   "execution_count": 21,
   "id": "9530b114-5bec-4bb0-8707-fc52aba33e95",
   "metadata": {
    "tags": []
   },
   "outputs": [
    {
     "data": {
      "text/plain": [
       "array([[ 1,  2,  3,  5,  3,  4,  5,  9],\n",
       "       [ 2,  3,  4, 12,  4,  2,  3,  1]])"
      ]
     },
     "execution_count": 21,
     "metadata": {},
     "output_type": "execute_result"
    }
   ],
   "source": [
    "y = x.reshape(2, 8)\n",
    "y"
   ]
  },
  {
   "cell_type": "code",
   "execution_count": 22,
   "id": "90b7438d-14eb-4913-bdd3-9b2dfb83ccca",
   "metadata": {
    "tags": []
   },
   "outputs": [
    {
     "data": {
      "text/plain": [
       "array([ 1,  2,  3,  5,  3,  4,  5,  9,  2,  3,  4, 12,  4,  2,  3,  1])"
      ]
     },
     "execution_count": 22,
     "metadata": {},
     "output_type": "execute_result"
    }
   ],
   "source": [
    "y = x.reshape(-1)\n",
    "y"
   ]
  },
  {
   "cell_type": "code",
   "execution_count": 23,
   "id": "3dd12067-69ba-41cf-859f-f82d1df53fd6",
   "metadata": {
    "tags": []
   },
   "outputs": [
    {
     "name": "stdout",
     "output_type": "stream",
     "text": [
      "[ 1  2  3  5  3  4  5  9  2  3  4 12  4  2  3  1]\n",
      "[[ 1  2  3  5]\n",
      " [ 3  4  5  9]\n",
      " [ 2  3  4 12]\n",
      " [ 4  2  3  1]]\n"
     ]
    }
   ],
   "source": [
    "print(y)\n",
    "print(y.base)"
   ]
  },
  {
   "cell_type": "markdown",
   "id": "fe60dd43-b353-4ca8-a708-947d012c9748",
   "metadata": {},
   "source": [
    "# Iterators"
   ]
  },
  {
   "cell_type": "code",
   "execution_count": 24,
   "id": "5e532b50-33ff-4ab2-aae3-00dd007d670b",
   "metadata": {
    "tags": []
   },
   "outputs": [],
   "source": [
    "x = np.array([1,2,3,4,5,6,7,8,9,10])"
   ]
  },
  {
   "cell_type": "code",
   "execution_count": 25,
   "id": "40012804-1066-49fd-b86b-41e57e60133c",
   "metadata": {
    "tags": []
   },
   "outputs": [
    {
     "name": "stdout",
     "output_type": "stream",
     "text": [
      "1\n",
      "2\n",
      "3\n",
      "4\n",
      "5\n",
      "6\n",
      "7\n",
      "8\n",
      "9\n",
      "10\n"
     ]
    }
   ],
   "source": [
    "for i in x: print(i)"
   ]
  },
  {
   "cell_type": "code",
   "execution_count": 26,
   "id": "9c18bcc0-3002-4151-b343-26b4739465b8",
   "metadata": {
    "tags": []
   },
   "outputs": [],
   "source": [
    "x = np.array([[1, 2, 3, 5], [3, 4, 5, 9],[2, 3, 4, 12], [4, 2, 3, 1]])"
   ]
  },
  {
   "cell_type": "code",
   "execution_count": 27,
   "id": "f155d684-1449-413b-90bb-889e8e339698",
   "metadata": {
    "tags": []
   },
   "outputs": [
    {
     "name": "stdout",
     "output_type": "stream",
     "text": [
      "[1 2 3 5]\n",
      "[3 4 5 9]\n",
      "[ 2  3  4 12]\n",
      "[4 2 3 1]\n"
     ]
    }
   ],
   "source": [
    "for i in x: print(i)"
   ]
  },
  {
   "cell_type": "code",
   "execution_count": 29,
   "id": "cf0dd18c-d1b2-4ead-a405-508537d496c5",
   "metadata": {
    "tags": []
   },
   "outputs": [
    {
     "name": "stdout",
     "output_type": "stream",
     "text": [
      "1\n",
      "2\n",
      "3\n",
      "5\n",
      "3\n",
      "4\n",
      "5\n",
      "9\n",
      "2\n",
      "3\n",
      "4\n",
      "12\n",
      "4\n",
      "2\n",
      "3\n",
      "1\n"
     ]
    }
   ],
   "source": [
    "for i in x: \n",
    "\tfor j in i: \n",
    "\t\tprint(j)"
   ]
  },
  {
   "cell_type": "markdown",
   "id": "fbef2770-3094-43b0-b8c8-d244c9358167",
   "metadata": {},
   "source": [
    "# Join"
   ]
  },
  {
   "cell_type": "code",
   "execution_count": 30,
   "id": "2a6cca1e-c66e-4aa1-9392-66afc0d7c9cd",
   "metadata": {
    "tags": []
   },
   "outputs": [
    {
     "name": "stdout",
     "output_type": "stream",
     "text": [
      "x = [[1 1 1]\n",
      " [2 2 2]]\n",
      "y = [[3 3 3]\n",
      " [4 4 4]]\n"
     ]
    }
   ],
   "source": [
    "x = np.array([[1, 1, 1], [2, 2, 2]]); print('x =', x)\n",
    "y = np.array([[3, 3, 3], [4, 4, 4]]); print('y =', y)"
   ]
  },
  {
   "cell_type": "code",
   "execution_count": 31,
   "id": "4269d44e-3cc2-4a82-87bb-e549a279aeba",
   "metadata": {
    "tags": []
   },
   "outputs": [
    {
     "name": "stdout",
     "output_type": "stream",
     "text": [
      "(4, 3)\n",
      "[[1 1 1]\n",
      " [2 2 2]\n",
      " [3 3 3]\n",
      " [4 4 4]]\n"
     ]
    }
   ],
   "source": [
    "z = np.concatenate((x,y))\n",
    "print(z.shape)\n",
    "print(z)"
   ]
  },
  {
   "cell_type": "code",
   "execution_count": 32,
   "id": "1268a643-5f24-4596-96f7-6afccfadd6d3",
   "metadata": {
    "tags": []
   },
   "outputs": [
    {
     "name": "stdout",
     "output_type": "stream",
     "text": [
      "(4, 3)\n",
      "[[1 1 1]\n",
      " [2 2 2]\n",
      " [3 3 3]\n",
      " [4 4 4]]\n"
     ]
    }
   ],
   "source": [
    "z = np.concatenate((x,y), axis=0)\n",
    "print(z.shape)\n",
    "print(z)"
   ]
  },
  {
   "cell_type": "code",
   "execution_count": 33,
   "id": "cecf8212-54b1-4e5b-bfd4-ebe9f6ac6738",
   "metadata": {
    "tags": []
   },
   "outputs": [
    {
     "name": "stdout",
     "output_type": "stream",
     "text": [
      "(2, 6)\n",
      "[[1 1 1 3 3 3]\n",
      " [2 2 2 4 4 4]]\n"
     ]
    }
   ],
   "source": [
    "z = np.concatenate((x,y), axis=1)\n",
    "print(z.shape)\n",
    "print(z)"
   ]
  },
  {
   "cell_type": "code",
   "execution_count": 34,
   "id": "567b1eb6-1196-4ad5-b432-0f13e4924243",
   "metadata": {
    "tags": []
   },
   "outputs": [
    {
     "name": "stdout",
     "output_type": "stream",
     "text": [
      "(2, 2, 3)\n",
      "[[[1 1 1]\n",
      "  [2 2 2]]\n",
      "\n",
      " [[3 3 3]\n",
      "  [4 4 4]]]\n"
     ]
    }
   ],
   "source": [
    "z = np.stack((x,y))\n",
    "print(z.shape)\n",
    "print(z)"
   ]
  },
  {
   "cell_type": "code",
   "execution_count": 35,
   "id": "84b0e0f0-a008-4dcb-96f7-1d74050c90ba",
   "metadata": {
    "tags": []
   },
   "outputs": [
    {
     "name": "stdout",
     "output_type": "stream",
     "text": [
      "(4, 3)\n",
      "[[1 1 1]\n",
      " [2 2 2]\n",
      " [3 3 3]\n",
      " [4 4 4]]\n"
     ]
    }
   ],
   "source": [
    "z = np.vstack((x,y)) #np.concatenate((x,y), axis=0)\n",
    "print(z.shape)\n",
    "print(z)"
   ]
  },
  {
   "cell_type": "code",
   "execution_count": 36,
   "id": "462672f8-e6bd-45c5-be9c-cfa8718eeee7",
   "metadata": {
    "tags": []
   },
   "outputs": [
    {
     "name": "stdout",
     "output_type": "stream",
     "text": [
      "(2, 6) [[1 1 1 3 3 3]\n",
      " [2 2 2 4 4 4]]\n",
      "(2, 6)\n",
      "[[1 1 1 3 3 3]\n",
      " [2 2 2 4 4 4]]\n"
     ]
    }
   ],
   "source": [
    "z = np.hstack((x,y)) #np.concatenate((x,y), axis=1)\n",
    "print(z.shape, z)\n",
    "print(z.shape)\n",
    "print(z)"
   ]
  },
  {
   "cell_type": "code",
   "execution_count": null,
   "id": "bf4736da-9359-4716-9b1f-d4aec4acc02c",
   "metadata": {
    "tags": []
   },
   "outputs": [],
   "source": [
    "z = np.dstack((x,y))\n",
    "print(z.shape)\n",
    "print(z)"
   ]
  },
  {
   "cell_type": "markdown",
   "id": "75340773-924a-483e-9ab7-bd2ae28103ad",
   "metadata": {},
   "source": [
    "# Split"
   ]
  },
  {
   "cell_type": "code",
   "execution_count": 38,
   "id": "9b3baad8-26a8-44ec-9774-57bc4f786db4",
   "metadata": {
    "tags": []
   },
   "outputs": [
    {
     "data": {
      "text/plain": [
       "array([1, 2, 3, 4, 5, 6, 7, 8, 9])"
      ]
     },
     "execution_count": 38,
     "metadata": {},
     "output_type": "execute_result"
    }
   ],
   "source": [
    "x = np.array([1,2,3,4,5,6,7,8,9])\n",
    "x"
   ]
  },
  {
   "cell_type": "code",
   "execution_count": 39,
   "id": "af2f39c9-1c82-4aba-8957-c8e991d88f48",
   "metadata": {
    "tags": []
   },
   "outputs": [
    {
     "name": "stdout",
     "output_type": "stream",
     "text": [
      "[array([1, 2, 3]), array([4, 5, 6]), array([7, 8, 9])]\n"
     ]
    }
   ],
   "source": [
    "y = np.array_split(x, 3);\n",
    "print(y)"
   ]
  },
  {
   "cell_type": "code",
   "execution_count": 41,
   "id": "d20026c4-5c74-427f-9304-076f3e7c12b8",
   "metadata": {
    "tags": []
   },
   "outputs": [
    {
     "data": {
      "text/plain": [
       "array([[ 1,  2,  3],\n",
       "       [ 4,  5,  6],\n",
       "       [ 7,  8,  9],\n",
       "       [10, 11, 12],\n",
       "       [13, 14, 15],\n",
       "       [16, 17, 18]])"
      ]
     },
     "execution_count": 41,
     "metadata": {},
     "output_type": "execute_result"
    }
   ],
   "source": [
    "x = np.array([[1, 2, 3], [4, 5, 6], [7, 8, 9], [10, 11, 12], [13, 14, 15], [16, 17, 18]])\n",
    "x"
   ]
  },
  {
   "cell_type": "code",
   "execution_count": 42,
   "id": "fc92373d-e19d-44ec-a677-a1cc8f672599",
   "metadata": {
    "tags": []
   },
   "outputs": [
    {
     "name": "stdout",
     "output_type": "stream",
     "text": [
      "[array([[1, 2, 3],\n",
      "       [4, 5, 6]]), array([[ 7,  8,  9],\n",
      "       [10, 11, 12]]), array([[13, 14, 15],\n",
      "       [16, 17, 18]])]\n"
     ]
    }
   ],
   "source": [
    "y = np.array_split(x, 3);\n",
    "print(y)"
   ]
  },
  {
   "cell_type": "code",
   "execution_count": 43,
   "id": "18eeb019-53fc-41ac-b672-74a6a4a04846",
   "metadata": {
    "tags": []
   },
   "outputs": [
    {
     "name": "stdout",
     "output_type": "stream",
     "text": [
      "[array([[1, 2, 3],\n",
      "       [4, 5, 6]]), array([[ 7,  8,  9],\n",
      "       [10, 11, 12]]), array([[13, 14, 15],\n",
      "       [16, 17, 18]])]\n"
     ]
    }
   ],
   "source": [
    "y = np.array_split(x, 3, axis=0);\n",
    "print(y)"
   ]
  },
  {
   "cell_type": "code",
   "execution_count": 45,
   "id": "fd9fc311-edce-4850-a994-dcd493fdfef0",
   "metadata": {
    "tags": []
   },
   "outputs": [
    {
     "name": "stdout",
     "output_type": "stream",
     "text": [
      "[array([[ 1],\n",
      "       [ 4],\n",
      "       [ 7],\n",
      "       [10],\n",
      "       [13],\n",
      "       [16]]), array([[ 2],\n",
      "       [ 5],\n",
      "       [ 8],\n",
      "       [11],\n",
      "       [14],\n",
      "       [17]]), array([[ 3],\n",
      "       [ 6],\n",
      "       [ 9],\n",
      "       [12],\n",
      "       [15],\n",
      "       [18]])]\n"
     ]
    }
   ],
   "source": [
    "y = np.hsplit(x, 3);\n",
    "print(y)"
   ]
  },
  {
   "cell_type": "code",
   "execution_count": 46,
   "id": "dba09e67-be0e-4ad2-9d8a-1e372a71895b",
   "metadata": {
    "tags": []
   },
   "outputs": [
    {
     "name": "stdout",
     "output_type": "stream",
     "text": [
      "[array([[ 1],\n",
      "       [ 4],\n",
      "       [ 7],\n",
      "       [10],\n",
      "       [13],\n",
      "       [16]]), array([[ 2],\n",
      "       [ 5],\n",
      "       [ 8],\n",
      "       [11],\n",
      "       [14],\n",
      "       [17]]), array([[ 3],\n",
      "       [ 6],\n",
      "       [ 9],\n",
      "       [12],\n",
      "       [15],\n",
      "       [18]])]\n"
     ]
    }
   ],
   "source": [
    "y = np.array_split(x, 3, axis=1);\n",
    "print(y)"
   ]
  },
  {
   "cell_type": "code",
   "execution_count": 47,
   "id": "b14c9b73-104d-472e-9908-842366ad16c0",
   "metadata": {
    "tags": []
   },
   "outputs": [
    {
     "name": "stdout",
     "output_type": "stream",
     "text": [
      "[array([[ 1],\n",
      "       [ 4],\n",
      "       [ 7],\n",
      "       [10],\n",
      "       [13],\n",
      "       [16]]), array([[ 2],\n",
      "       [ 5],\n",
      "       [ 8],\n",
      "       [11],\n",
      "       [14],\n",
      "       [17]]), array([[ 3],\n",
      "       [ 6],\n",
      "       [ 9],\n",
      "       [12],\n",
      "       [15],\n",
      "       [18]])]\n"
     ]
    }
   ],
   "source": [
    "y = np.hsplit(x, 3);\n",
    "print(y)"
   ]
  },
  {
   "cell_type": "markdown",
   "id": "0bc73e01-3122-4476-ae3f-6fa0d91bde81",
   "metadata": {},
   "source": [
    "# Search, Sort, Filter"
   ]
  },
  {
   "cell_type": "code",
   "execution_count": 48,
   "id": "cea6f808-9a41-4061-b28a-385909233840",
   "metadata": {
    "tags": []
   },
   "outputs": [
    {
     "name": "stdout",
     "output_type": "stream",
     "text": [
      "(array([3], dtype=int64),)\n"
     ]
    }
   ],
   "source": [
    "#search\n",
    "x = np.array([11, 31, 87, 19, 23, 43])\n",
    "y = np.where(x==19); print(y)"
   ]
  },
  {
   "cell_type": "code",
   "execution_count": 49,
   "id": "5b99e03d-5510-4f4e-a635-6ea5d97a9618",
   "metadata": {
    "tags": []
   },
   "outputs": [
    {
     "name": "stdout",
     "output_type": "stream",
     "text": [
      "[11 19 23 31 43 87]\n"
     ]
    }
   ],
   "source": [
    "#sort\n",
    "x = np.array([11, 31, 87, 19, 23, 43])\n",
    "y = np.sort(x); print(y)"
   ]
  },
  {
   "cell_type": "code",
   "execution_count": 50,
   "id": "ec688c72-cf9e-47c0-911d-80e41473541e",
   "metadata": {
    "tags": []
   },
   "outputs": [
    {
     "name": "stdout",
     "output_type": "stream",
     "text": [
      "[11 23 43]\n"
     ]
    }
   ],
   "source": [
    "#filter\n",
    "x = np.array([11, 31, 87, 19, 23, 43])\n",
    "s = [True, False, False, False, True, True]\n",
    "y = x[s]; print(y)"
   ]
  },
  {
   "cell_type": "markdown",
   "id": "8d6db49a-e01a-4aa8-94a2-6fa9c98e4c75",
   "metadata": {
    "tags": []
   },
   "source": [
    "# Random"
   ]
  },
  {
   "cell_type": "code",
   "execution_count": 51,
   "id": "b6d92f5c-4bcf-4454-8382-f846e28c7d18",
   "metadata": {
    "tags": []
   },
   "outputs": [],
   "source": [
    "from numpy import random"
   ]
  },
  {
   "cell_type": "code",
   "execution_count": 52,
   "id": "f647657b-7371-4326-920a-76599e4d2ae3",
   "metadata": {
    "tags": []
   },
   "outputs": [
    {
     "name": "stdout",
     "output_type": "stream",
     "text": [
      "0.1391301554227048\n",
      "38\n",
      "[82 28 30 91 57]\n",
      "[[75 46 80]\n",
      " [83 67 23]\n",
      " [13 11 82]\n",
      " [88 16 26]\n",
      " [25 65 45]]\n",
      "[0.2614433  0.50420078 0.08668709 0.91917134 0.74444252]\n",
      "[[0.83250925 0.71582334 0.78286801]\n",
      " [0.04717957 0.62703722 0.14888178]\n",
      " [0.34315195 0.04944874 0.82897216]\n",
      " [0.61712818 0.68218347 0.09571659]\n",
      " [0.2911551  0.92682352 0.77321101]]\n"
     ]
    }
   ],
   "source": [
    "x = random.rand(); print(x)\n",
    "x = random.randint(100); print(x)\n",
    "x = random.randint(100, size=5); print(x)\n",
    "x = random.randint(100, size=(5, 3)); print(x)\n",
    "x = random.rand(5); print(x)\n",
    "x = random.rand(5,3); print(x)"
   ]
  },
  {
   "cell_type": "markdown",
   "id": "28ff6c9e-2abd-4830-8586-1591d5be926f",
   "metadata": {},
   "source": [
    "# Random Choice"
   ]
  },
  {
   "cell_type": "code",
   "execution_count": 55,
   "id": "774054fa-e754-4983-a39b-2fc36653df4d",
   "metadata": {
    "tags": []
   },
   "outputs": [
    {
     "name": "stdout",
     "output_type": "stream",
     "text": [
      "hi\n",
      "[5 3 7 8 8 5 5 7 8 8 7 8 8 3 8 3 7 7 3 7 5 3 3 5 5 8 8 5 5 7 3 3 8 7 7 8 8\n",
      " 5 5 8 8 7 5 8 5 5 5 3 8 3 8 7 5 7 8 8 3 5 5 3 7 5 5 3 8 5 3 3 8 3 8 8 8 8\n",
      " 7 5 3 3 3 7]\n",
      "[[7 7 8]\n",
      " [7 3 3]]\n"
     ]
    }
   ],
   "source": [
    "x = random.choice(['hello','hi','welcome']); print(x)\n",
    "x = random.choice([5,3,7,8], size=(80)); print(x)\n",
    "x = random.choice([5,3,7,8], size=(2,3)); print(x)"
   ]
  },
  {
   "cell_type": "code",
   "execution_count": 56,
   "id": "f3a5d58e-5651-4fbf-ba3d-270e88dd93b9",
   "metadata": {
    "tags": []
   },
   "outputs": [
    {
     "name": "stdout",
     "output_type": "stream",
     "text": [
      "[7 7 3 5 3 7 3 7 3 5 7 7 3 3 3 5 3 3 7 7 7 7 7 5 3 7 5 7 7 7 7 3 7 7 7 3 7\n",
      " 3 3 7 3 3 7 7 7 7 7 7 7 7 7 3 3 3 7 7 7 7 7 7 3 3 7 3 7 7 3 5 3 3 7 7 3 3\n",
      " 7 7 7 7 7 3 5 3 7 3 3 5 3 7 5 7 5 7 3 7 3 7 5 3 7 7]\n"
     ]
    }
   ],
   "source": [
    "x = random.choice([5,3,7,8], p=[0.1, 0.3, 0.6, 0.0], size=(100)); \n",
    "print(x)"
   ]
  },
  {
   "cell_type": "markdown",
   "id": "64b69c55-6845-4d89-ae51-18f3477bd4fe",
   "metadata": {},
   "source": [
    "# Shuffel"
   ]
  },
  {
   "cell_type": "code",
   "execution_count": 57,
   "id": "b85a01b0-099d-4b37-802a-a127964e9867",
   "metadata": {
    "tags": []
   },
   "outputs": [
    {
     "data": {
      "text/plain": [
       "array([1, 2, 3, 4, 5, 6, 7, 8])"
      ]
     },
     "execution_count": 57,
     "metadata": {},
     "output_type": "execute_result"
    }
   ],
   "source": [
    "x = np.array([1,2,3,4,5,6,7,8])\n",
    "x"
   ]
  },
  {
   "cell_type": "code",
   "execution_count": 58,
   "id": "0caa1663-49c0-47ae-9ede-ca9d1fd9073b",
   "metadata": {
    "tags": []
   },
   "outputs": [
    {
     "data": {
      "text/plain": [
       "array([2, 5, 6, 7, 1, 8, 4, 3])"
      ]
     },
     "execution_count": 58,
     "metadata": {},
     "output_type": "execute_result"
    }
   ],
   "source": [
    "random.shuffle(x)\n",
    "x"
   ]
  },
  {
   "cell_type": "code",
   "execution_count": 59,
   "id": "eb048d9b-f00a-4385-827c-3b9a35a3c63e",
   "metadata": {
    "tags": []
   },
   "outputs": [
    {
     "data": {
      "text/plain": [
       "array([1, 2, 3, 4, 5, 6, 7, 8])"
      ]
     },
     "execution_count": 59,
     "metadata": {},
     "output_type": "execute_result"
    }
   ],
   "source": [
    "x = np.array([1,2,3,4,5,6,7,8])\n",
    "x"
   ]
  },
  {
   "cell_type": "code",
   "execution_count": 60,
   "id": "4aa280c1-40c6-4368-82a6-2d994373ebb9",
   "metadata": {
    "tags": []
   },
   "outputs": [
    {
     "name": "stdout",
     "output_type": "stream",
     "text": [
      "x =  [1 2 3 4 5 6 7 8]\n",
      "y =  [1 7 3 4 5 8 2 6]\n"
     ]
    }
   ],
   "source": [
    "y = random.permutation(x)\n",
    "print('x = ', x)\n",
    "print('y = ', y)"
   ]
  },
  {
   "cell_type": "markdown",
   "id": "949a83c3-a41f-4627-92ed-49605f9884b5",
   "metadata": {
    "tags": []
   },
   "source": [
    "# Random Distributions"
   ]
  },
  {
   "cell_type": "code",
   "execution_count": 65,
   "id": "3803cab3-b143-406b-bc15-95fcb944a48e",
   "metadata": {
    "tags": []
   },
   "outputs": [],
   "source": [
    "import numpy as np\n",
    "from numpy import random\n",
    "import matplotlib.pyplot as plt\n",
    "import seaborn as sns"
   ]
  },
  {
   "cell_type": "markdown",
   "id": "ac812a9e-e6d9-46ba-8b4a-bc374f0daf9a",
   "metadata": {},
   "source": [
    "# Normal Distribution"
   ]
  },
  {
   "cell_type": "code",
   "execution_count": 61,
   "id": "bed936db-79f9-48a5-aa19-4629149d6cc7",
   "metadata": {
    "tags": []
   },
   "outputs": [
    {
     "data": {
      "text/plain": [
       "array([-0.74370879,  0.04470285, -0.04708779, -1.46959696, -0.18461676])"
      ]
     },
     "execution_count": 61,
     "metadata": {},
     "output_type": "execute_result"
    }
   ],
   "source": [
    "x = random.normal(size=5); x"
   ]
  },
  {
   "cell_type": "code",
   "execution_count": 62,
   "id": "340365f2-6084-4bdb-8795-da1871ed2ec5",
   "metadata": {
    "tags": []
   },
   "outputs": [
    {
     "data": {
      "text/plain": [
       "array([7.76659686, 6.45377949, 9.9676874 , 2.5892356 , 5.17366399])"
      ]
     },
     "execution_count": 62,
     "metadata": {},
     "output_type": "execute_result"
    }
   ],
   "source": [
    "x = random.normal(loc=5, scale=3, size=5); x"
   ]
  },
  {
   "cell_type": "code",
   "execution_count": 63,
   "id": "6c30d0ee-ab6e-433f-a27a-80f9cf9607a2",
   "metadata": {
    "tags": []
   },
   "outputs": [
    {
     "data": {
      "text/plain": [
       "array([2.6090213 , 7.18514971, 6.44489696, 7.82256605, 3.97757181])"
      ]
     },
     "execution_count": 63,
     "metadata": {},
     "output_type": "execute_result"
    }
   ],
   "source": [
    "x = random.normal(loc=5, scale=3, size=5); x"
   ]
  },
  {
   "cell_type": "code",
   "execution_count": 66,
   "id": "ecd8e0c3-ae89-4f91-ade8-89da539321e9",
   "metadata": {
    "tags": []
   },
   "outputs": [
    {
     "data": {
      "text/plain": [
       "<AxesSubplot:ylabel='Count'>"
      ]
     },
     "execution_count": 66,
     "metadata": {},
     "output_type": "execute_result"
    },
    {
     "data": {
      "image/png": "[encoded data removed]",
      "text/plain": [
       "<Figure size 640x480 with 1 Axes>"
      ]
     },
     "metadata": {},
     "output_type": "display_data"
    }
   ],
   "source": [
    "x = random.normal(loc=5, scale=3, size=1000)\n",
    "sns.histplot(x)"
   ]
  },
  {
   "cell_type": "markdown",
   "id": "eabb96ab-8817-4fd6-ba0c-fbe4dea9a3eb",
   "metadata": {},
   "source": [
    "# Binomial Distribution"
   ]
  },
  {
   "cell_type": "code",
   "execution_count": null,
   "id": "4365ca84-bf0c-4025-b319-d1a33610ca4a",
   "metadata": {
    "tags": []
   },
   "outputs": [],
   "source": [
    "x = random.binomial(n=10, p=0.5, size=5); print(x)"
   ]
  },
  {
   "cell_type": "code",
   "execution_count": 67,
   "id": "f59e9c8e-7cf7-4e94-8388-1546c3cd6e8a",
   "metadata": {
    "tags": []
   },
   "outputs": [
    {
     "data": {
      "text/plain": [
       "<AxesSubplot:ylabel='Count'>"
      ]
     },
     "execution_count": 67,
     "metadata": {},
     "output_type": "execute_result"
    },
    {
     "data": {
      "image/png": "[encoded data removed]",
      "text/plain": [
       "<Figure size 640x480 with 1 Axes>"
      ]
     },
     "metadata": {},
     "output_type": "display_data"
    }
   ],
   "source": [
    "x = random.binomial(n=5, p=0.7, size=10000)\n",
    "sns.histplot(x, kde=False)"
   ]
  },
  {
   "cell_type": "markdown",
   "id": "a1f66971-4bbe-4ed1-a5e7-18f88b60ea72",
   "metadata": {},
   "source": [
    "# Poisson Distribution"
   ]
  },
  {
   "cell_type": "code",
   "execution_count": null,
   "id": "30e445d8-5126-43c4-96fa-4a2648419018",
   "metadata": {
    "tags": []
   },
   "outputs": [],
   "source": [
    "x = random.poisson(lam=2, size=10); print(x)"
   ]
  },
  {
   "cell_type": "code",
   "execution_count": 68,
   "id": "dffb4905-42ed-4d5b-8ab3-e22d6295e5f2",
   "metadata": {
    "tags": []
   },
   "outputs": [
    {
     "data": {
      "image/png": "[encoded data removed]",
      "text/plain": [
       "<Figure size 640x480 with 1 Axes>"
      ]
     },
     "metadata": {},
     "output_type": "display_data"
    }
   ],
   "source": [
    "x = random.poisson(lam=2, size=1000)\n",
    "sns.histplot(x, kde=False)\n",
    "plt.show()"
   ]
  },
  {
   "cell_type": "markdown",
   "id": "02c82a46-2d7a-454c-bbbe-974faf181bc4",
   "metadata": {},
   "source": [
    "# Uniform Distribution"
   ]
  },
  {
   "cell_type": "code",
   "execution_count": null,
   "id": "dcc32cd1-c058-4a25-9c9a-2fd96eaddf95",
   "metadata": {
    "tags": []
   },
   "outputs": [],
   "source": [
    "x = random.uniform(size=10); print(x)"
   ]
  },
  {
   "cell_type": "code",
   "execution_count": 69,
   "id": "168654af-092f-4fbe-a5d6-6676081a192d",
   "metadata": {
    "tags": []
   },
   "outputs": [
    {
     "data": {
      "image/png": "[encoded data removed]",
      "text/plain": [
       "<Figure size 640x480 with 1 Axes>"
      ]
     },
     "metadata": {},
     "output_type": "display_data"
    }
   ],
   "source": [
    "x = random.uniform(size=10000)\n",
    "sns.histplot(x, kde=False)\n",
    "plt.show()"
   ]
  },
  {
   "cell_type": "markdown",
   "id": "dfce8f6d-acd1-4e4e-8a08-863ecfc38e90",
   "metadata": {},
   "source": [
    "# Logarithmic Distribution"
   ]
  },
  {
   "cell_type": "code",
   "execution_count": null,
   "id": "dc2d5200-2b32-4f7b-8b63-5eb0a2323e2f",
   "metadata": {
    "tags": []
   },
   "outputs": [],
   "source": [
    "x = random.logistic(loc=1, scale=2, size=10); print(x)"
   ]
  },
  {
   "cell_type": "code",
   "execution_count": 70,
   "id": "2023d6cb-cde2-4715-80ad-37d277b7f6c1",
   "metadata": {
    "tags": []
   },
   "outputs": [
    {
     "data": {
      "image/png": "[encoded data removed]",
      "text/plain": [
       "<Figure size 640x480 with 1 Axes>"
      ]
     },
     "metadata": {},
     "output_type": "display_data"
    }
   ],
   "source": [
    "x = random.logistic(loc=1, scale=2, size=10000)\n",
    "sns.histplot(x, kde=False)\n",
    "plt.show()"
   ]
  },
  {
   "cell_type": "markdown",
   "id": "e5f207fb-ddf9-40f8-baf6-48dd660abe84",
   "metadata": {},
   "source": [
    "# Multinomial Distribution"
   ]
  },
  {
   "cell_type": "code",
   "execution_count": 71,
   "id": "8bba90b9-329e-4299-aabb-2b716978d412",
   "metadata": {
    "tags": []
   },
   "outputs": [
    {
     "name": "stdout",
     "output_type": "stream",
     "text": [
      "[[1 3 0 1 0 1]\n",
      " [1 0 0 2 2 1]\n",
      " [2 1 1 1 0 1]\n",
      " [3 1 0 0 1 1]\n",
      " [2 1 1 1 1 0]\n",
      " [1 0 2 0 2 1]]\n"
     ]
    }
   ],
   "source": [
    "p = [1/6, 1/6, 1/6, 1/6, 1/6, 1/6]\n",
    "x = random.multinomial(n=6, pvals=p, size=6); print(x)"
   ]
  },
  {
   "cell_type": "code",
   "execution_count": 72,
   "id": "9732f7b4-e1a6-43c2-a95b-a4b9a1334225",
   "metadata": {
    "tags": []
   },
   "outputs": [
    {
     "data": {
      "image/png": "[encoded data removed]",
      "text/plain": [
       "<Figure size 640x480 with 1 Axes>"
      ]
     },
     "metadata": {},
     "output_type": "display_data"
    }
   ],
   "source": [
    "x = random.multinomial(n=6, pvals=p, size=1000)\n",
    "sns.histplot(x, kde=False)\n",
    "plt.show()"
   ]
  },
  {
   "cell_type": "markdown",
   "id": "519fd6e8-ad88-4aa0-a706-ee27a705496f",
   "metadata": {},
   "source": [
    "# Exponential Distribution"
   ]
  },
  {
   "cell_type": "code",
   "execution_count": 73,
   "id": "57889cd9-c516-4738-bafc-688c6e1ab202",
   "metadata": {
    "tags": []
   },
   "outputs": [
    {
     "name": "stdout",
     "output_type": "stream",
     "text": [
      "[ 3.03982683 14.40149613  0.16114067  0.42650728  1.91742162  0.06166163]\n"
     ]
    }
   ],
   "source": [
    "x = random.exponential(scale=2, size=6); print(x)"
   ]
  },
  {
   "cell_type": "code",
   "execution_count": 74,
   "id": "0c9fbb8d-781b-48cc-8c83-55e937b6e3cf",
   "metadata": {
    "tags": []
   },
   "outputs": [
    {
     "data": {
      "image/png": "[encoded data removed]",
      "text/plain": [
       "<Figure size 640x480 with 1 Axes>"
      ]
     },
     "metadata": {},
     "output_type": "display_data"
    }
   ],
   "source": [
    "x = random.exponential(scale=2, size=1000)\n",
    "sns.histplot(x, kde=False)\n",
    "plt.show()"
   ]
  },
  {
   "cell_type": "markdown",
   "id": "83f394e8-ebcb-4c0b-874b-66fc36036fbe",
   "metadata": {},
   "source": [
    "# Chi-Square Distribution"
   ]
  },
  {
   "cell_type": "code",
   "execution_count": null,
   "id": "1ed2b6df-2a43-4633-972e-56e1b482a3e2",
   "metadata": {
    "tags": []
   },
   "outputs": [],
   "source": [
    "x = random.chisquare(df=2, size=6); print(x)"
   ]
  },
  {
   "cell_type": "code",
   "execution_count": null,
   "id": "e844166e-9c79-4244-96b9-a156ae47189f",
   "metadata": {
    "tags": []
   },
   "outputs": [],
   "source": [
    "x = random.chisquare(df=2, size=1000)\n",
    "sns.histplot(x, kde=False)\n",
    "plt.show()"
   ]
  },
  {
   "cell_type": "markdown",
   "id": "ee16fa91-9df2-49d0-a29c-a979215545ac",
   "metadata": {},
   "source": [
    "# Arrays Math"
   ]
  },
  {
   "cell_type": "code",
   "execution_count": 75,
   "id": "5a99af52-5aae-4ffc-9808-f502a50b0fd9",
   "metadata": {
    "tags": []
   },
   "outputs": [],
   "source": [
    "a = [1, 2, 3, 4]\n",
    "b = [15, 13, 12, 14]"
   ]
  },
  {
   "cell_type": "code",
   "execution_count": 76,
   "id": "abcf04fb-297c-466e-8b21-2cec99d1fa14",
   "metadata": {
    "tags": []
   },
   "outputs": [
    {
     "name": "stdout",
     "output_type": "stream",
     "text": [
      "1 15\n",
      "2 13\n",
      "3 12\n",
      "4 14\n",
      "[16, 15, 15, 18] <class 'list'> 4\n"
     ]
    }
   ],
   "source": [
    "c = []\n",
    "for i, j in zip(a, b):\n",
    "\tprint(i, j) \n",
    "\tc.append(i + j)\n",
    "print(c, type(c), len(c))"
   ]
  },
  {
   "cell_type": "code",
   "execution_count": 77,
   "id": "25d088c4-7ad1-4b6c-ba8c-970327ef628e",
   "metadata": {
    "tags": []
   },
   "outputs": [
    {
     "data": {
      "text/plain": [
       "array([16, 15, 15, 18])"
      ]
     },
     "execution_count": 77,
     "metadata": {},
     "output_type": "execute_result"
    }
   ],
   "source": [
    "d = np.add(a, b)\n",
    "d"
   ]
  },
  {
   "cell_type": "code",
   "execution_count": 78,
   "id": "ba769441-0b60-4331-aa19-d0bee3ce52b5",
   "metadata": {
    "tags": []
   },
   "outputs": [
    {
     "name": "stdout",
     "output_type": "stream",
     "text": [
      "[-15  32  34  36  38  40]\n"
     ]
    }
   ],
   "source": [
    "x = np.array([-35, 11, 12, 13, 14, 15])\n",
    "y = np.array([20, 21, 22, 23, 24, 25])\n",
    "z = np.add(x, y); print(z)"
   ]
  },
  {
   "cell_type": "code",
   "execution_count": 79,
   "id": "8cd5a695-6d78-4589-8004-281283378d97",
   "metadata": {
    "tags": []
   },
   "outputs": [
    {
     "name": "stdout",
     "output_type": "stream",
     "text": [
      "[-55 -10 -10 -10 -10 -10]\n",
      "[-700  231  264  299  336  375]\n",
      "[-1.75        0.52380952  0.54545455  0.56521739  0.58333333  0.6       ]\n",
      "[-1092323567   602408795           0  1487897765  1090519040 -1144744561]\n",
      "[ 5 11 12 13 14 15]\n",
      "[ 5 11 12 13 14 15]\n",
      "(array([-2,  0,  0,  0,  0,  0]), array([ 5, 11, 12, 13, 14, 15]))\n",
      "[35 11 12 13 14 15]\n"
     ]
    }
   ],
   "source": [
    "z = np.subtract(x, y); print(z)\n",
    "z = np.multiply(x, y); print(z)\n",
    "z = np.divide(x, y); print(z)\n",
    "z = np.power(x, y); print(z)\n",
    "z = np.mod(x, y); print(z)\n",
    "z = np.remainder(x, y); print(z)\n",
    "z = np.divmod(x, y); print(z)\n",
    "z = np.absolute(x, y); print(z)"
   ]
  },
  {
   "cell_type": "code",
   "execution_count": 80,
   "id": "7cdfb40e-eaff-4e14-960f-ed3dd34c1ef4",
   "metadata": {
    "tags": []
   },
   "outputs": [
    {
     "name": "stdout",
     "output_type": "stream",
     "text": [
      "[-3.  3.]\n",
      "[-3.  3.]\n",
      "[-3.  4.]\n",
      "[-4.  3.]\n",
      "[-3.  4.]\n",
      "[1 2 3 4 5 6 7 8 9]\n",
      "[0.         1.         1.5849625  2.         2.32192809 2.5849625\n",
      " 2.80735492 3.         3.169925  ]\n",
      "[0.         0.30103    0.47712125 0.60205999 0.69897    0.77815125\n",
      " 0.84509804 0.90308999 0.95424251]\n",
      "[0.         0.69314718 1.09861229 1.38629436 1.60943791 1.79175947\n",
      " 1.94591015 2.07944154 2.19722458]\n"
     ]
    }
   ],
   "source": [
    "x = np.array([-3.1666, 3.6667])\n",
    "z = np.trunc(x); print(z)\n",
    "z = np.fix(x); print(z)\n",
    "z = np.around(x); print(z)\n",
    "z = np.floor(x); print(z)\n",
    "z = np.ceil(x); print(z)\n",
    "z = np.log2(x); print(z)\n",
    "z = np.log10(x); print(z)\n",
    "z = np.log(x); print(z)"
   ]
  },
  {
   "cell_type": "markdown",
   "id": "38f2cb50-b26e-44e9-b5ee-8d4c18ff6a90",
   "metadata": {},
   "source": [
    "# Custom Arrays Math"
   ]
  },
  {
   "cell_type": "code",
   "execution_count": null,
   "id": "e03b8370-6e41-4dea-b49f-00c14b460308",
   "metadata": {
    "tags": []
   },
   "outputs": [],
   "source": [
    "def add3(x, y, z):\n",
    "  return x + y + z"
   ]
  },
  {
   "cell_type": "code",
   "execution_count": null,
   "id": "282ed77e-a0ad-452d-9493-177904b6f6ca",
   "metadata": {
    "tags": []
   },
   "outputs": [],
   "source": [
    "add3func = np.frompyfunc(add3, 3, 1)"
   ]
  },
  {
   "cell_type": "code",
   "execution_count": null,
   "id": "8ca4d747-6415-49f4-bf7a-43aae94cadb0",
   "metadata": {
    "tags": []
   },
   "outputs": [],
   "source": [
    "a = np.array([20, 21, 22, 23, 24, 25])\n",
    "b = np.array([20, 21, 22, 23, 24, 25])\n",
    "c = np.array([20, 21, 22, 23, 24, 25])\n",
    "s = add3func(a, b, c); print(s)"
   ]
  },
  {
   "cell_type": "markdown",
   "id": "3e3a3fc4-635d-42d2-a8a3-8316465a5d8c",
   "metadata": {
    "tags": []
   },
   "source": [
    "# Custom Arrays Math Another Example"
   ]
  },
  {
   "cell_type": "code",
   "execution_count": 81,
   "id": "3410a12f-9214-4ff1-bd65-785b0cd7e4fd",
   "metadata": {
    "tags": []
   },
   "outputs": [],
   "source": [
    "def f(x, y, z):\n",
    "  return (x + 3 * y) / z"
   ]
  },
  {
   "cell_type": "code",
   "execution_count": 82,
   "id": "044b87ee-5d19-422b-89bd-cc9617b70ad8",
   "metadata": {
    "tags": []
   },
   "outputs": [],
   "source": [
    "f = np.frompyfunc(f, 3, 1)"
   ]
  },
  {
   "cell_type": "code",
   "execution_count": 83,
   "id": "314097b6-14d9-407f-9eb1-9d75cc15d61e",
   "metadata": {
    "tags": []
   },
   "outputs": [
    {
     "name": "stdout",
     "output_type": "stream",
     "text": [
      "[4.0 4.0 4.0 4.0 4.0 4.0]\n"
     ]
    }
   ],
   "source": [
    "a = np.array([20, 21, 22, 23, 24, 25])\n",
    "b = np.array([20, 21, 22, 23, 24, 25])\n",
    "c = np.array([20, 21, 22, 23, 24, 25])\n",
    "s = f(a, b, c); print(s)"
   ]
  },
  {
   "cell_type": "markdown",
   "id": "827e8ea7-15d8-42e8-b809-3aa7d999aca2",
   "metadata": {},
   "source": [
    "# Sum and Cumulative Sum"
   ]
  },
  {
   "cell_type": "code",
   "execution_count": 84,
   "id": "104536d7-34f1-4a30-b6ab-6c16b3cf797a",
   "metadata": {
    "tags": []
   },
   "outputs": [
    {
     "name": "stdout",
     "output_type": "stream",
     "text": [
      "[1, 2, 3, 4]\n",
      "[[1, 2, 3], [4, 2, 3]]\n"
     ]
    }
   ],
   "source": [
    "a = [1, 2, 3, 4]\n",
    "s = [[1, 2, 3], [4, 2, 3]]\n",
    "print(a)\n",
    "print(s)"
   ]
  },
  {
   "cell_type": "code",
   "execution_count": 85,
   "id": "48b32343-d93b-4490-bdb1-3b34fd275f85",
   "metadata": {
    "tags": []
   },
   "outputs": [
    {
     "name": "stdout",
     "output_type": "stream",
     "text": [
      "10\n"
     ]
    }
   ],
   "source": [
    "c = np.sum(a); print(c)"
   ]
  },
  {
   "cell_type": "code",
   "execution_count": 86,
   "id": "44110bfb-50b6-4232-a021-2d49db5d6bbe",
   "metadata": {
    "tags": []
   },
   "outputs": [
    {
     "name": "stdout",
     "output_type": "stream",
     "text": [
      "[6 9]\n"
     ]
    }
   ],
   "source": [
    "c = np.sum(s, axis=1); print(c)"
   ]
  },
  {
   "cell_type": "code",
   "execution_count": 87,
   "id": "2d5be3ba-e99b-436d-a287-f371ee4599b3",
   "metadata": {
    "tags": []
   },
   "outputs": [
    {
     "name": "stdout",
     "output_type": "stream",
     "text": [
      "[5 4 6]\n"
     ]
    }
   ],
   "source": [
    "c = np.sum(s, axis=0); print(c)"
   ]
  },
  {
   "cell_type": "code",
   "execution_count": 88,
   "id": "f959164e-3726-4a38-9905-1b1dfe272f0a",
   "metadata": {
    "tags": []
   },
   "outputs": [
    {
     "name": "stdout",
     "output_type": "stream",
     "text": [
      "[ 1  3  6 10]\n"
     ]
    }
   ],
   "source": [
    "c = np.cumsum(a); print(c)"
   ]
  },
  {
   "cell_type": "code",
   "execution_count": 89,
   "id": "e9b68af0-9887-438a-9c0a-38e335fef5b2",
   "metadata": {
    "tags": []
   },
   "outputs": [
    {
     "name": "stdout",
     "output_type": "stream",
     "text": [
      "[[1 2 3]\n",
      " [5 4 6]]\n"
     ]
    }
   ],
   "source": [
    "c = np.cumsum(s, axis=0); print(c)"
   ]
  },
  {
   "cell_type": "code",
   "execution_count": 90,
   "id": "d2e933ef-447c-4140-afd3-3b7b99bec592",
   "metadata": {
    "tags": []
   },
   "outputs": [
    {
     "name": "stdout",
     "output_type": "stream",
     "text": [
      "[[1 3 6]\n",
      " [4 6 9]]\n"
     ]
    }
   ],
   "source": [
    "c = np.cumsum(s, axis=1); print(c)"
   ]
  },
  {
   "cell_type": "markdown",
   "id": "49f0a381-65a6-4b8e-920f-a2a643be5aaa",
   "metadata": {},
   "source": [
    "# Product and Cumulative Product"
   ]
  },
  {
   "cell_type": "code",
   "execution_count": 91,
   "id": "4000043e-0e79-45a8-a46d-1084c8a19de1",
   "metadata": {
    "tags": []
   },
   "outputs": [
    {
     "name": "stdout",
     "output_type": "stream",
     "text": [
      "[1, 2, 3, 4]\n",
      "[[1, 2, 3], [4, 2, 3]]\n"
     ]
    }
   ],
   "source": [
    "a = [1, 2, 3, 4]\n",
    "s = [[1, 2, 3], [4, 2, 3]]\n",
    "print(a)\n",
    "print(s)"
   ]
  },
  {
   "cell_type": "code",
   "execution_count": 92,
   "id": "ee750ab4-f43d-4fff-a666-1510db98ae48",
   "metadata": {
    "tags": []
   },
   "outputs": [
    {
     "name": "stdout",
     "output_type": "stream",
     "text": [
      "24\n",
      "[4 4 9]\n",
      "[ 6 24]\n"
     ]
    }
   ],
   "source": [
    "c = np.product(a); print(c)\n",
    "c = np.product(s, axis=0); print(c)\n",
    "c = np.product(s, axis=1); print(c)"
   ]
  },
  {
   "cell_type": "code",
   "execution_count": 93,
   "id": "e0c95f02-7368-49b5-a673-c7c8a0f00d82",
   "metadata": {
    "tags": []
   },
   "outputs": [
    {
     "name": "stdout",
     "output_type": "stream",
     "text": [
      "[ 1  2  6 24]\n",
      "[[1 2 3]\n",
      " [4 4 9]]\n",
      "[[ 1  2  6]\n",
      " [ 4  8 24]]\n"
     ]
    }
   ],
   "source": [
    "c = np.cumprod(a); print(c)\n",
    "c = np.cumprod(s, axis=0); print(c)\n",
    "c = np.cumprod(s, axis=1); print(c)"
   ]
  },
  {
   "cell_type": "markdown",
   "id": "6ccbdfe8-ffdb-4ffa-b85e-dc02d4aa76ff",
   "metadata": {},
   "source": [
    "# Difference"
   ]
  },
  {
   "cell_type": "code",
   "execution_count": 94,
   "id": "40dd4829-02d1-4ee9-9e66-a3b4a8f60005",
   "metadata": {
    "tags": []
   },
   "outputs": [],
   "source": [
    "a = [12, 2, 5, 14]"
   ]
  },
  {
   "cell_type": "code",
   "execution_count": 95,
   "id": "ea4640ca-c380-4b08-99dd-e07d4f6bad97",
   "metadata": {
    "tags": []
   },
   "outputs": [
    {
     "name": "stdout",
     "output_type": "stream",
     "text": [
      "[-10   3   9]\n"
     ]
    }
   ],
   "source": [
    "c = np.diff(a); print(c)"
   ]
  },
  {
   "cell_type": "code",
   "execution_count": 96,
   "id": "5d782d3c-86a6-4464-85df-40acb121627e",
   "metadata": {
    "tags": []
   },
   "outputs": [
    {
     "name": "stdout",
     "output_type": "stream",
     "text": [
      "[13  6]\n"
     ]
    }
   ],
   "source": [
    "c = np.diff(a,n=2); print(c)"
   ]
  },
  {
   "cell_type": "code",
   "execution_count": 97,
   "id": "71b13a57-3a9e-4eea-8a5d-bcc565f954f4",
   "metadata": {
    "tags": []
   },
   "outputs": [
    {
     "name": "stdout",
     "output_type": "stream",
     "text": [
      "[[3 0 0]]\n"
     ]
    }
   ],
   "source": [
    "c = np.diff(s, axis=0); print(c)"
   ]
  },
  {
   "cell_type": "code",
   "execution_count": 98,
   "id": "e543e1f7-3537-4de7-9138-d943b3ef905f",
   "metadata": {
    "tags": []
   },
   "outputs": [
    {
     "name": "stdout",
     "output_type": "stream",
     "text": [
      "[[ 1  1]\n",
      " [-2  1]]\n"
     ]
    }
   ],
   "source": [
    "c = np.diff(s, axis=1); print(c)"
   ]
  },
  {
   "cell_type": "markdown",
   "id": "43549093-5d2f-4382-8cd7-da40c2f5fa03",
   "metadata": {},
   "source": [
    "# LCM and GCD"
   ]
  },
  {
   "cell_type": "code",
   "execution_count": 99,
   "id": "75d324d7-1f82-44a8-a7f2-4f24f464cd5b",
   "metadata": {
    "tags": []
   },
   "outputs": [
    {
     "name": "stdout",
     "output_type": "stream",
     "text": [
      "245\n"
     ]
    }
   ],
   "source": [
    "c = np.lcm(35, 49); print(c)"
   ]
  },
  {
   "cell_type": "code",
   "execution_count": 100,
   "id": "ee2cbfdd-fe83-4796-a0f9-e91572851b05",
   "metadata": {
    "tags": []
   },
   "outputs": [
    {
     "name": "stdout",
     "output_type": "stream",
     "text": [
      "[245  24]\n"
     ]
    }
   ],
   "source": [
    "c = np.lcm([35, 12], [49, 24]); print(c);"
   ]
  },
  {
   "cell_type": "code",
   "execution_count": 101,
   "id": "1aab3e67-c992-41d2-ac8c-a351f9c600f0",
   "metadata": {
    "tags": []
   },
   "outputs": [
    {
     "name": "stdout",
     "output_type": "stream",
     "text": [
      "18\n"
     ]
    }
   ],
   "source": [
    "c = np.lcm.reduce([3, 6, 9]); print(c)"
   ]
  },
  {
   "cell_type": "code",
   "execution_count": 102,
   "id": "1f9d95b6-2a98-4195-85e7-8b6f2c8b64b7",
   "metadata": {
    "tags": []
   },
   "outputs": [
    {
     "name": "stdout",
     "output_type": "stream",
     "text": [
      "7\n"
     ]
    }
   ],
   "source": [
    "c = np.gcd(35, 49); print(c)"
   ]
  },
  {
   "cell_type": "code",
   "execution_count": 103,
   "id": "65c4bc2f-5ec7-4df0-af88-21de83a1b40b",
   "metadata": {
    "tags": []
   },
   "outputs": [
    {
     "name": "stdout",
     "output_type": "stream",
     "text": [
      "[7 3]\n"
     ]
    }
   ],
   "source": [
    "c = np.gcd([35, 15], [49, 12]); print(c)"
   ]
  },
  {
   "cell_type": "code",
   "execution_count": 104,
   "id": "758411d8-9db3-4c2d-adb1-ef5c18d83526",
   "metadata": {
    "tags": []
   },
   "outputs": [
    {
     "name": "stdout",
     "output_type": "stream",
     "text": [
      "5\n"
     ]
    }
   ],
   "source": [
    "c = np.gcd.reduce([35, 15, 45]); print(c)"
   ]
  },
  {
   "cell_type": "markdown",
   "id": "cdc4d2d5-91ca-4a45-a45c-cd811364e1b8",
   "metadata": {},
   "source": [
    "# Trigonometric"
   ]
  },
  {
   "cell_type": "code",
   "execution_count": 105,
   "id": "ca94a1b7-9792-4b13-8b75-c98e88c94cd9",
   "metadata": {
    "tags": []
   },
   "outputs": [],
   "source": [
    "d = [0, 45, 90, 135, 180]"
   ]
  },
  {
   "cell_type": "code",
   "execution_count": 106,
   "id": "33adee4a-eb5c-42e7-b415-c49961681913",
   "metadata": {
    "tags": []
   },
   "outputs": [
    {
     "name": "stdout",
     "output_type": "stream",
     "text": [
      "[0.         0.78539816 1.57079633 2.35619449 3.14159265]\n",
      "[  0.  45.  90. 135. 180.]\n"
     ]
    }
   ],
   "source": [
    "r = np.deg2rad(d); print(r); print(np.rad2deg(r))"
   ]
  },
  {
   "cell_type": "code",
   "execution_count": null,
   "id": "f2d21763-fe46-446f-968d-fa95494360eb",
   "metadata": {
    "tags": []
   },
   "outputs": [],
   "source": [
    "s = np.sin(r); print(s); print(np.arcsin(s))\n",
    "s = np.cos(r); print(s); print(np.arccos(s))\n",
    "s = np.tan(r); print(s); print(np.arctan(s))\n",
    "s = np.sinh(r); print(s); print(np.arcsinh(s))"
   ]
  },
  {
   "cell_type": "markdown",
   "id": "87b93190-0dd7-4e5d-8dae-adc7837cf2b6",
   "metadata": {},
   "source": [
    "# Sets"
   ]
  },
  {
   "cell_type": "code",
   "execution_count": 107,
   "id": "1e369c8f-fd70-4384-b9b4-7dd03b990987",
   "metadata": {
    "tags": []
   },
   "outputs": [
    {
     "name": "stdout",
     "output_type": "stream",
     "text": [
      "[1 2 3 4]\n"
     ]
    }
   ],
   "source": [
    "c = np.unique([1, 1, 2, 3, 3, 2, 2, 1, 1, 4]); print(c)"
   ]
  },
  {
   "cell_type": "code",
   "execution_count": 108,
   "id": "cfc515ec-15e5-4f47-85c5-1c1bf8c4b1a2",
   "metadata": {
    "tags": []
   },
   "outputs": [
    {
     "name": "stdout",
     "output_type": "stream",
     "text": [
      "[1 2 3 4 5 6]\n"
     ]
    }
   ],
   "source": [
    "a = np.array([1, 2, 3, 4])\n",
    "b = np.array([3, 4, 5, 6])\n",
    "c = np.union1d(a, b); print(c)"
   ]
  },
  {
   "cell_type": "code",
   "execution_count": 109,
   "id": "2f178895-661f-4fe7-8fd4-83503c7dd979",
   "metadata": {
    "tags": []
   },
   "outputs": [
    {
     "name": "stdout",
     "output_type": "stream",
     "text": [
      "[3 4]\n"
     ]
    }
   ],
   "source": [
    "c = np.intersect1d(a, b); print(c)"
   ]
  },
  {
   "cell_type": "code",
   "execution_count": 110,
   "id": "57afb5bc-0dac-4510-8e92-191a3d4f23c3",
   "metadata": {
    "tags": []
   },
   "outputs": [
    {
     "name": "stdout",
     "output_type": "stream",
     "text": [
      "[1 2]\n"
     ]
    }
   ],
   "source": [
    "c = np.setdiff1d(a, b); print(c)"
   ]
  },
  {
   "cell_type": "code",
   "execution_count": null,
   "id": "29427006-a4c7-4f43-b49c-8db537116edb",
   "metadata": {},
   "outputs": [],
   "source": []
  }
 ],
 "metadata": {
  "kernelspec": {
   "display_name": "Python 3 (ipykernel)",
   "language": "python",
   "name": "python3"
  },
  "language_info": {
   "codemirror_mode": {
    "name": "ipython",
    "version": 3
   },
   "file_extension": ".py",
   "mimetype": "text/x-python",
   "name": "python",
   "nbconvert_exporter": "python",
   "pygments_lexer": "ipython3",
   "version": "3.10.5"
  }
 },
 "nbformat": 4,
 "nbformat_minor": 5
}
