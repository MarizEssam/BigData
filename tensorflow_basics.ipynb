{
 "cells": [
  {
   "cell_type": "code",
   "execution_count": null,
   "id": "303abcd2-c5a9-48f2-8282-c27b6f951f74",
   "metadata": {
    "tags": []
   },
   "outputs": [],
   "source": [
    "import numpy as np\n",
    "import tensorflow as tf"
   ]
  },
  {
   "cell_type": "markdown",
   "id": "0b133ae7-f9b7-4ed7-bd79-55b566e42bf8",
   "metadata": {},
   "source": [
    "# Initialization of Sensor"
   ]
  },
  {
   "cell_type": "code",
   "execution_count": null,
   "id": "0ef72f84-ae69-4f38-b7f8-a64be3301581",
   "metadata": {
    "tags": []
   },
   "outputs": [],
   "source": [
    "x = tf.constant(4); print(x)\n",
    "x = tf.constant(4, shape=(5,5), dtype=tf.float32); print(x)\n",
    "x = tf.constant([[1, 2, 3], [7, 3, 1]]); print(x)"
   ]
  },
  {
   "cell_type": "code",
   "execution_count": null,
   "id": "d200bb17-8dc3-46e3-bf0b-95d9780e52da",
   "metadata": {
    "tags": []
   },
   "outputs": [],
   "source": [
    "x = tf.ones((3,2)); print(x)\n",
    "x = tf.zeros((3,2)); print(x)\n",
    "x = tf.eye(3); print(x)"
   ]
  },
  {
   "cell_type": "code",
   "execution_count": null,
   "id": "151d93d7-5f62-412f-80fd-9eaedeb2a91a",
   "metadata": {
    "tags": []
   },
   "outputs": [],
   "source": [
    "x = tf.random.normal((3,3), mean=0, stddev=1); print(x)\n",
    "x = tf.random.uniform((3,3), minval=0, maxval=100); print(x)"
   ]
  },
  {
   "cell_type": "code",
   "execution_count": null,
   "id": "1c62d1f2-4bdd-46f1-bcd8-27691fa47c84",
   "metadata": {},
   "outputs": [],
   "source": [
    "x = tf.range(9); print(x)\n",
    "x = tf.range(start=1, limit=10, delta=2); print(x)"
   ]
  },
  {
   "cell_type": "code",
   "execution_count": null,
   "id": "253f9535-3352-433e-bbde-e4baa4ffc832",
   "metadata": {
    "tags": []
   },
   "outputs": [],
   "source": [
    "x = tf.constant([[1, 2, 3], [7, 3, 1]]); print(x)\n",
    "x = tf.cast(x, dtype=tf.float64); print(x)"
   ]
  },
  {
   "cell_type": "markdown",
   "id": "fe344d22-e33d-4680-ada2-77b83affe383",
   "metadata": {},
   "source": [
    "# Mathematical Operations"
   ]
  },
  {
   "cell_type": "code",
   "execution_count": null,
   "id": "a194f4d6-db4b-48b7-b28c-66fc1983d426",
   "metadata": {
    "tags": []
   },
   "outputs": [],
   "source": [
    "x = tf.constant([1,2,3]); print(x)\n",
    "y = tf.constant([9,8,7]); print(y)"
   ]
  },
  {
   "cell_type": "code",
   "execution_count": null,
   "id": "072cb218-ba0b-4814-8d87-62c73bff6f62",
   "metadata": {
    "tags": []
   },
   "outputs": [],
   "source": [
    "z = tf.add(x, y); print(z)\n",
    "z = x + y; print(z)"
   ]
  },
  {
   "cell_type": "code",
   "execution_count": null,
   "id": "40861147-380b-48c5-a213-8100dfce29f7",
   "metadata": {
    "tags": []
   },
   "outputs": [],
   "source": [
    "z = tf.subtract(x, y); print(z)\n",
    "z = x - y; print(z)"
   ]
  },
  {
   "cell_type": "code",
   "execution_count": null,
   "id": "96bcf030-a5d7-460a-b48a-62ee2fd77a40",
   "metadata": {
    "tags": []
   },
   "outputs": [],
   "source": [
    "z = tf.divide(x, y); print(z)\n",
    "z = x / y; print(z)"
   ]
  },
  {
   "cell_type": "code",
   "execution_count": null,
   "id": "0ec81c2e-aa2a-48ab-83f3-f97d56e55282",
   "metadata": {
    "tags": []
   },
   "outputs": [],
   "source": [
    "z = tf.multiply(x, y); print(z)\n",
    "z = x * y; print(z)"
   ]
  },
  {
   "cell_type": "code",
   "execution_count": null,
   "id": "67b4d1dc-0956-422a-bba5-9f0d6f98f966",
   "metadata": {
    "tags": []
   },
   "outputs": [],
   "source": [
    "z = tf.tensordot(x, y, axes=1); print(z)\n",
    "z = tf.reduce_sum(x*y, axis=0); print(z)"
   ]
  },
  {
   "cell_type": "code",
   "execution_count": null,
   "id": "6f300dae-4a11-4f0c-a9b4-d60326490738",
   "metadata": {
    "tags": []
   },
   "outputs": [],
   "source": [
    "z = x ** 5; print(z)"
   ]
  },
  {
   "cell_type": "code",
   "execution_count": null,
   "id": "26533617-99da-485c-bd80-356d49ab33e6",
   "metadata": {
    "tags": []
   },
   "outputs": [],
   "source": [
    "x = tf.random.normal((2, 3))\n",
    "y = tf.random.normal((3, 4))\n",
    "z = tf.matmul(x, y); print(z)\n",
    "z = x @ y; print(z)"
   ]
  },
  {
   "cell_type": "markdown",
   "id": "33ebada0-e763-4188-aa0e-7da4fa448158",
   "metadata": {},
   "source": [
    "# Indexing"
   ]
  },
  {
   "cell_type": "code",
   "execution_count": null,
   "id": "e1736014-a643-46dd-a3bd-cbf4705b947e",
   "metadata": {
    "tags": []
   },
   "outputs": [],
   "source": [
    "x = tf.constant([4, 2, 5, 3, 9, 1, 6, 7, 8, 9])\n",
    "print(x[:])\n",
    "print(x[1:])\n",
    "print(x[1:3])\n",
    "print(x[::2])\n",
    "print(x[::-1])\n",
    "print(tf.gather(x, tf.constant([0, 3])))"
   ]
  },
  {
   "cell_type": "code",
   "execution_count": null,
   "id": "62805fc5-919a-4525-835c-733b2ed825f7",
   "metadata": {
    "tags": []
   },
   "outputs": [],
   "source": [
    "x = tf.constant([[1, 2], [3, 4], [5, 6]]); print(x)\n",
    "print(x[0,:])\n",
    "print(x[:,0])\n",
    "print(x[0:2,:])"
   ]
  },
  {
   "cell_type": "markdown",
   "id": "5de736ff-1799-4904-93e1-b2c271a68874",
   "metadata": {},
   "source": [
    "# Reshaping"
   ]
  },
  {
   "cell_type": "code",
   "execution_count": null,
   "id": "d19f0ca8-0f59-43f6-9be9-017fed0ce1f3",
   "metadata": {
    "tags": []
   },
   "outputs": [],
   "source": [
    "x = tf.range(9); print(x)\n",
    "x = tf.reshape(x, (3,3)); print(x)\n",
    "t = tf.transpose(x); print(t)\n",
    "t = tf.transpose(x, perm=(1,0)); print(t)\n",
    "t = tf.transpose(x, perm=(0,1)); print(t)"
   ]
  },
  {
   "cell_type": "code",
   "execution_count": null,
   "id": "798604e0-97a8-40be-9bbf-71329630282f",
   "metadata": {},
   "outputs": [],
   "source": []
  }
 ],
 "metadata": {
  "kernelspec": {
   "display_name": "Python 3 (ipykernel)",
   "language": "python",
   "name": "python3"
  },
  "language_info": {
   "codemirror_mode": {
    "name": "ipython",
    "version": 3
   },
   "file_extension": ".py",
   "mimetype": "text/x-python",
   "name": "python",
   "nbconvert_exporter": "python",
   "pygments_lexer": "ipython3",
   "version": "3.10.5"
  }
 },
 "nbformat": 4,
 "nbformat_minor": 5
}
